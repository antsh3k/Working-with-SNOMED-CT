{
 "cells": [
  {
   "cell_type": "markdown",
   "metadata": {},
   "source": [
    "# Demo of SNOMED tools"
   ]
  },
  {
   "cell_type": "code",
   "execution_count": null,
   "metadata": {},
   "outputs": [],
   "source": [
    "import os\n",
    "import json\n",
    "from snomed_tools import *"
   ]
  },
  {
   "cell_type": "code",
   "execution_count": 2,
   "metadata": {},
   "outputs": [],
   "source": [
    "with open(\"isa_rela_pt2ch_20200401.json\") as json_file:\n",
    "    pt2ch = json.load(json_file)\n",
    "with open(\"isa_rela_ch2pt_20200401.json\") as json_file:\n",
    "    ch2pt = json.load(json_file)\n",
    "with open(\"SCTID2name.json\") as json_file:\n",
    "    sctid2name = json.load(json_file)"
   ]
  },
  {
   "cell_type": "code",
   "execution_count": 3,
   "metadata": {},
   "outputs": [],
   "source": [
    "snomed = Snomed(sctid2name)\n",
    "snomed_p2c = Snomed_pt2ch(pt2ch)"
   ]
  },
  {
   "cell_type": "code",
   "execution_count": 4,
   "metadata": {},
   "outputs": [
    {
     "data": {
      "text/plain": [
       "'Ventricular arrhythmia (disorder)'"
      ]
     },
     "execution_count": 4,
     "metadata": {},
     "output_type": "execute_result"
    }
   ],
   "source": [
    "snomed.sctid2name(\"S-44103008\")"
   ]
  },
  {
   "cell_type": "code",
   "execution_count": 5,
   "metadata": {},
   "outputs": [
    {
     "data": {
      "text/plain": [
       "'disorder'"
      ]
     },
     "execution_count": 5,
     "metadata": {},
     "output_type": "execute_result"
    }
   ],
   "source": [
    "snomed.sctid2tlc(\"S-44103008\")"
   ]
  },
  {
   "cell_type": "code",
   "execution_count": 6,
   "metadata": {},
   "outputs": [
    {
     "data": {
      "text/plain": [
       "['S-251161003', 'S-49260003', 'S-71908006', 'S-17338001', 'S-6624005']"
      ]
     },
     "execution_count": 6,
     "metadata": {},
     "output_type": "execute_result"
    }
   ],
   "source": [
    "snomed_p2c.get_children(\"S-44103008\")"
   ]
  },
  {
   "cell_type": "code",
   "execution_count": 8,
   "metadata": {},
   "outputs": [
    {
     "data": {
      "text/plain": [
       "['S-49260003',\n",
       " 'S-13640000',\n",
       " 'S-233915000',\n",
       " 'S-251179004',\n",
       " 'S-251176006',\n",
       " 'S-251181002',\n",
       " 'S-719823007',\n",
       " 'S-61277005',\n",
       " 'S-6624005',\n",
       " 'S-59272004',\n",
       " 'S-195083004',\n",
       " 'S-71908006',\n",
       " 'S-251182009',\n",
       " 'S-251177002',\n",
       " 'S-723866006',\n",
       " 'S-429243003',\n",
       " 'S-251161003',\n",
       " 'S-251178007',\n",
       " 'S-251180001',\n",
       " 'S-17338001',\n",
       " 'S-81898007',\n",
       " 'S-44103008',\n",
       " 'S-75532003',\n",
       " 'S-11157007']"
      ]
     },
     "execution_count": 8,
     "metadata": {},
     "output_type": "execute_result"
    }
   ],
   "source": [
    "snomed_p2c.get_all_children(\"S-44103008\")"
   ]
  },
  {
   "cell_type": "code",
   "execution_count": 9,
   "metadata": {},
   "outputs": [
    {
     "name": "stdout",
     "output_type": "stream",
     "text": [
      "Idioventricular rhythm (disorder)\n",
      "Fusion beats (disorder)\n",
      "Paroxysmal familial ventricular fibrillation (disorder)\n",
      "Multiple ventricular interpolated complexes (disorder)\n",
      "Multiple premature ventricular complexes (disorder)\n",
      "Ventricular quadrigeminy (disorder)\n",
      "Ventricular extrasystoles with syncope, perodactyly and Robin sequence syndrome (disorder)\n",
      "Accelerated idioventricular rhythm (disorder)\n",
      "Ventricular tachyarrhythmia (disorder)\n",
      "Ventricular parasystole (disorder)\n",
      "Ventricular fibrillation and flutter (disorder)\n",
      "Ventricular fibrillation (disorder)\n",
      "Paired ventricular premature complexes (disorder)\n",
      "Run of ventricular premature complexes (disorder)\n",
      "Idiopathic ventricular fibrillation not Brugada type (disorder)\n",
      "Sustained ventricular fibrillation (disorder)\n",
      "Slow ventricular response (disorder)\n",
      "Ventricular interpolated complexes (disorder)\n",
      "Ventricular trigeminy (disorder)\n",
      "Ventricular premature beats (disorder)\n",
      "Ventricular escape rhythm (disorder)\n",
      "Ventricular arrhythmia (disorder)\n",
      "Ventricular escape beat (disorder)\n",
      "Ventricular bigeminy (disorder)\n"
     ]
    }
   ],
   "source": [
    "for a in snomed_p2c.get_all_children(\"S-44103008\"):\n",
    "    print(snomed.sctid2name(a))"
   ]
  },
  {
   "cell_type": "code",
   "execution_count": null,
   "metadata": {},
   "outputs": [],
   "source": []
  }
 ],
 "metadata": {
  "kernelspec": {
   "display_name": "Python 3",
   "language": "python",
   "name": "python3"
  },
  "language_info": {
   "codemirror_mode": {
    "name": "ipython",
    "version": 3
   },
   "file_extension": ".py",
   "mimetype": "text/x-python",
   "name": "python",
   "nbconvert_exporter": "python",
   "pygments_lexer": "ipython3",
   "version": "3.8.2"
  }
 },
 "nbformat": 4,
 "nbformat_minor": 1
}
