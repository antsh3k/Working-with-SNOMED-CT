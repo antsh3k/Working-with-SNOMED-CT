{
 "cells": [
  {
   "cell_type": "markdown",
   "metadata": {},
   "source": [
    "# Demo of SNOMED tools"
   ]
  },
  {
   "cell_type": "code",
   "execution_count": null,
   "metadata": {},
   "outputs": [],
   "source": [
    "import os\n",
    "import json\n",
    "from snomed_tools import *"
   ]
  },
  {
   "cell_type": "code",
   "execution_count": 2,
   "metadata": {},
   "outputs": [],
   "source": [
    "with open(\"isa_rela_pt2ch_20200401.json\") as json_file:\n",
    "    pt2ch = json.load(json_file)\n",
    "with open(\"isa_rela_ch2pt_20200401.json\") as json_file:\n",
    "    ch2pt = json.load(json_file)\n",
    "with open(\"SCTID2name.json\") as json_file:\n",
    "    sctid2name = json.load(json_file)"
   ]
  },
  {
   "cell_type": "code",
   "execution_count": 3,
   "metadata": {},
   "outputs": [],
   "source": [
    "snomed = Snomed(sctid2name)\n",
    "snomed_p2c = Snomed_pt2ch(pt2ch)"
   ]
  },
  {
   "cell_type": "code",
   "execution_count": 5,
   "metadata": {},
   "outputs": [
    {
     "data": {
      "text/plain": [
       "'Epilepsy (disorder)'"
      ]
     },
     "execution_count": 5,
     "metadata": {},
     "output_type": "execute_result"
    }
   ],
   "source": [
    "snomed.sctid2name(\"S-84757009\")"
   ]
  },
  {
   "cell_type": "code",
   "execution_count": 5,
   "metadata": {},
   "outputs": [
    {
     "data": {
      "text/plain": [
       "'disorder'"
      ]
     },
     "execution_count": 5,
     "metadata": {},
     "output_type": "execute_result"
    }
   ],
   "source": [
    "snomed.sctid2tlc(\"S-44103008\")"
   ]
  },
  {
   "cell_type": "code",
   "execution_count": 6,
   "metadata": {},
   "outputs": [
    {
     "data": {
      "text/plain": [
       "['S-109478007',\n",
       " 'S-230381009',\n",
       " 'S-230435005',\n",
       " 'S-352818000',\n",
       " 'S-19598007',\n",
       " 'S-2198002',\n",
       " 'S-39194005',\n",
       " 'S-49776008',\n",
       " 'S-79745005',\n",
       " 'S-193002005',\n",
       " 'S-193008009',\n",
       " 'S-230441003',\n",
       " 'S-230456007',\n",
       " 'S-75023009',\n",
       " 'S-38281008',\n",
       " 'S-422513000',\n",
       " 'S-445355009',\n",
       " 'S-8291000119107',\n",
       " 'S-187931000119106',\n",
       " 'S-698767004',\n",
       " 'S-10750951000119106',\n",
       " 'S-100941000119100',\n",
       " 'S-717223008',\n",
       " 'S-716706009',\n",
       " 'S-720519003',\n",
       " 'S-721088003',\n",
       " 'S-722386009',\n",
       " 'S-723676007',\n",
       " 'S-724274009',\n",
       " 'S-724992007',\n",
       " 'S-724576005',\n",
       " 'S-724786008',\n",
       " 'S-724787004',\n",
       " 'S-724789001',\n",
       " 'S-724988000',\n",
       " 'S-724989008',\n",
       " 'S-724990004',\n",
       " 'S-724991000',\n",
       " 'S-724549005',\n",
       " 'S-733031004',\n",
       " 'S-733032006',\n",
       " 'S-82381000119103',\n",
       " 'S-733195008',\n",
       " 'S-733623005',\n",
       " 'S-734434007',\n",
       " 'S-765170001',\n",
       " 'S-766044005',\n",
       " 'S-230438007',\n",
       " 'S-509341000000107']"
      ]
     },
     "execution_count": 6,
     "metadata": {},
     "output_type": "execute_result"
    }
   ],
   "source": [
    "snomed_p2c.get_children(\"S-84757009\")"
   ]
  },
  {
   "cell_type": "code",
   "execution_count": 13,
   "metadata": {},
   "outputs": [
    {
     "data": {
      "text/plain": [
       "49"
      ]
     },
     "execution_count": 13,
     "metadata": {},
     "output_type": "execute_result"
    }
   ],
   "source": [
    "len(snomed_p2c.get_children(\"S-84757009\"))"
   ]
  },
  {
   "cell_type": "code",
   "execution_count": 12,
   "metadata": {},
   "outputs": [
    {
     "data": {
      "text/plain": [
       "215"
      ]
     },
     "execution_count": 12,
     "metadata": {},
     "output_type": "execute_result"
    }
   ],
   "source": [
    "len(snomed_p2c.get_all_children(\"S-84757009\"))"
   ]
  },
  {
   "cell_type": "code",
   "execution_count": 9,
   "metadata": {},
   "outputs": [
    {
     "name": "stdout",
     "output_type": "stream",
     "text": [
      "Idioventricular rhythm (disorder)\n",
      "Fusion beats (disorder)\n",
      "Paroxysmal familial ventricular fibrillation (disorder)\n",
      "Multiple ventricular interpolated complexes (disorder)\n",
      "Multiple premature ventricular complexes (disorder)\n",
      "Ventricular quadrigeminy (disorder)\n",
      "Ventricular extrasystoles with syncope, perodactyly and Robin sequence syndrome (disorder)\n",
      "Accelerated idioventricular rhythm (disorder)\n",
      "Ventricular tachyarrhythmia (disorder)\n",
      "Ventricular parasystole (disorder)\n",
      "Ventricular fibrillation and flutter (disorder)\n",
      "Ventricular fibrillation (disorder)\n",
      "Paired ventricular premature complexes (disorder)\n",
      "Run of ventricular premature complexes (disorder)\n",
      "Idiopathic ventricular fibrillation not Brugada type (disorder)\n",
      "Sustained ventricular fibrillation (disorder)\n",
      "Slow ventricular response (disorder)\n",
      "Ventricular interpolated complexes (disorder)\n",
      "Ventricular trigeminy (disorder)\n",
      "Ventricular premature beats (disorder)\n",
      "Ventricular escape rhythm (disorder)\n",
      "Ventricular arrhythmia (disorder)\n",
      "Ventricular escape beat (disorder)\n",
      "Ventricular bigeminy (disorder)\n"
     ]
    }
   ],
   "source": [
    "for a in snomed_p2c.get_all_children(\"S-44103008\"):\n",
    "    print(snomed.sctid2name(a))"
   ]
  },
  {
   "cell_type": "code",
   "execution_count": null,
   "metadata": {},
   "outputs": [],
   "source": []
  }
 ],
 "metadata": {
  "kernelspec": {
   "display_name": "Python 3",
   "language": "python",
   "name": "python3"
  },
  "language_info": {
   "codemirror_mode": {
    "name": "ipython",
    "version": 3
   },
   "file_extension": ".py",
   "mimetype": "text/x-python",
   "name": "python",
   "nbconvert_exporter": "python",
   "pygments_lexer": "ipython3",
   "version": "3.8.2"
  }
 },
 "nbformat": 4,
 "nbformat_minor": 1
}
