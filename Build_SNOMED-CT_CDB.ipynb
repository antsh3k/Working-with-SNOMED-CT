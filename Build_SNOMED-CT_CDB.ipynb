{
 "cells": [
  {
   "cell_type": "markdown",
   "metadata": {},
   "source": [
    " ## Building a SNOMED-CT MedCAT Concept Database\n",
    " - populating with ICD-10 and OPCS-4 mapped infos"
   ]
  },
  {
   "cell_type": "code",
   "execution_count": null,
   "metadata": {},
   "outputs": [],
   "source": [
    "from medcat.cdb import CDB\n",
    "from medcat.cat import CAT\n",
    "from medcat.utils.vocab import Vocab\n",
    "from medcat.prepare_cdb import PrepareCDB"
   ]
  },
  {
   "cell_type": "code",
   "execution_count": 72,
   "metadata": {},
   "outputs": [],
   "source": [
    "import os\n",
    "import pandas as pd\n",
    "import pickle"
   ]
  },
  {
   "cell_type": "code",
   "execution_count": 47,
   "metadata": {},
   "outputs": [],
   "source": [
    "vocab_dat = '/home/ubuntu/medcat_models/base_vocabulary.dat'\n",
    "cdb_csv = '/home/ubuntu/medcat_models/snomed_cdb_csv_SNOMED-CT-UK_Release_20191001.csv'"
   ]
  },
  {
   "cell_type": "code",
   "execution_count": 127,
   "metadata": {},
   "outputs": [],
   "source": [
    "snomed_csv = pd.read_csv(cdb_csv)"
   ]
  },
  {
   "cell_type": "code",
   "execution_count": null,
   "metadata": {},
   "outputs": [],
   "source": [
    "set(snomed_csv.cui.unique()) - set(snomed_cdb.cui2names.keys())"
   ]
  },
  {
   "cell_type": "code",
   "execution_count": 17,
   "metadata": {},
   "outputs": [
    {
     "name": "stdout",
     "output_type": "stream",
     "text": [
      "Done: 0\n",
      "Done: 10000\n",
      "Done: 20000\n",
      "Done: 30000\n",
      "Done: 40000\n",
      "Done: 50000\n",
      "Done: 60000\n",
      "Done: 70000\n",
      "Done: 80000\n",
      "Done: 90000\n",
      "Done: 100000\n",
      "Done: 110000\n",
      "Done: 120000\n",
      "Done: 130000\n",
      "Done: 140000\n",
      "Done: 150000\n",
      "Done: 160000\n",
      "Done: 170000\n",
      "Done: 180000\n",
      "Done: 190000\n",
      "Done: 200000\n",
      "Done: 210000\n",
      "Done: 220000\n",
      "Done: 230000\n",
      "Done: 240000\n",
      "Done: 250000\n",
      "Done: 260000\n",
      "Done: 270000\n",
      "Done: 280000\n",
      "Done: 290000\n",
      "Done: 300000\n",
      "Done: 310000\n",
      "Done: 320000\n",
      "Done: 330000\n",
      "Done: 340000\n",
      "Done: 350000\n",
      "Done: 360000\n",
      "Done: 370000\n",
      "Done: 380000\n",
      "Done: 390000\n",
      "Done: 400000\n",
      "Done: 410000\n",
      "Done: 420000\n",
      "Done: 430000\n",
      "Done: 440000\n",
      "Done: 450000\n",
      "Done: 460000\n",
      "Done: 470000\n",
      "Done: 480000\n",
      "Done: 490000\n",
      "Done: 500000\n",
      "Done: 510000\n",
      "Done: 520000\n",
      "Done: 530000\n",
      "Done: 540000\n",
      "Done: 550000\n",
      "Done: 560000\n",
      "Done: 570000\n",
      "Done: 580000\n",
      "Done: 590000\n",
      "Done: 600000\n",
      "Done: 610000\n",
      "Done: 620000\n",
      "Done: 630000\n",
      "Done: 640000\n",
      "Done: 650000\n",
      "Done: 660000\n",
      "Done: 670000\n",
      "Done: 680000\n",
      "Done: 690000\n",
      "Done: 700000\n",
      "Done: 710000\n",
      "Done: 720000\n",
      "Done: 730000\n",
      "Done: 740000\n",
      "Done: 750000\n",
      "Done: 760000\n",
      "Done: 770000\n",
      "Done: 780000\n",
      "Done: 790000\n",
      "Done: 800000\n",
      "Done: 810000\n",
      "Done: 820000\n",
      "Done: 830000\n",
      "Done: 840000\n",
      "Done: 850000\n",
      "Done: 860000\n",
      "Done: 870000\n",
      "Done: 880000\n",
      "Done: 890000\n",
      "Done: 900000\n",
      "Done: 910000\n",
      "Done: 920000\n",
      "Done: 930000\n",
      "Done: 940000\n",
      "Done: 950000\n",
      "Done: 960000\n",
      "CPU times: user 2h 17min 3s, sys: 9.96 s, total: 2h 17min 13s\n",
      "Wall time: 2h 17min 6s\n"
     ]
    }
   ],
   "source": [
    "%%time\n",
    "vocab = Vocab()\n",
    "vocab.load_dict(vocab_dat)\n",
    "prep = PrepareCDB(vocab=vocab)\n",
    "csv_paths = [cdb_csv]\n",
    "cdb = prep.prepare_csvs(csv_paths)"
   ]
  },
  {
   "cell_type": "code",
   "execution_count": 28,
   "metadata": {},
   "outputs": [],
   "source": [
    "snomed_cdb.save_dict('./medcat_models/snomed_cdb.dat')"
   ]
  },
  {
   "cell_type": "code",
   "execution_count": 49,
   "metadata": {},
   "outputs": [],
   "source": [
    "cat = CAT(cdb=snomed_cdb, vocab=vocab)"
   ]
  },
  {
   "cell_type": "markdown",
   "metadata": {},
   "source": [
    "## Train Model on MIMIC-III Notes"
   ]
  },
  {
   "cell_type": "code",
   "execution_count": 32,
   "metadata": {},
   "outputs": [],
   "source": [
    "df = pd.read_csv('~/tdy_ehr/mimic_tidy/data/mimic3/raw/notes_mimic3.csv')\n",
    "all_notes = df.text.tolist()"
   ]
  },
  {
   "cell_type": "code",
   "execution_count": null,
   "metadata": {},
   "outputs": [],
   "source": [
    "%%time\n",
    "for text in all_notes:\n",
    "    cat(text)"
   ]
  },
  {
   "cell_type": "code",
   "execution_count": 61,
   "metadata": {},
   "outputs": [],
   "source": [
    "snomed_cdb.save_dict('./medcat_models/snomed_cdb.dat')"
   ]
  },
  {
   "cell_type": "code",
   "execution_count": 53,
   "metadata": {},
   "outputs": [],
   "source": [
    "cat.train = False"
   ]
  },
  {
   "cell_type": "code",
   "execution_count": 75,
   "metadata": {},
   "outputs": [],
   "source": [
    "cui2icd10_mappings = pickle.load(open('medcat_models/icd10_mapping_condensed.pickle', 'rb'))\n",
    "cui2opcs4_mappings = pickle.load(open('medcat_models/opcs_mapping_condensed.pickle', 'rb'))"
   ]
  },
  {
   "cell_type": "code",
   "execution_count": 109,
   "metadata": {},
   "outputs": [],
   "source": [
    "icd10_descs = pickle.load(open('medcat_models/icd10_uk_codes.pickle', 'rb'))\n",
    "icd10_descs = {key[0:3] + '.' + key[3:] if len(key) > 3 else key: val for key, val in icd10_descs.items()}\n",
    "opcs4_descs = pickle.load(open('medcat_models/opcs_codes_desc.pickle', 'rb'))"
   ]
  },
  {
   "cell_type": "code",
   "execution_count": 136,
   "metadata": {},
   "outputs": [
    {
     "name": "stdout",
     "output_type": "stream",
     "text": [
      "CPU times: user 2.27 s, sys: 217 ms, total: 2.49 s\n",
      "Wall time: 2.48 s\n"
     ]
    }
   ],
   "source": [
    "%%time\n",
    "for cui, icd10codes in cui2icd10_mappings.items():\n",
    "    icd_codes = [{'chapter': icd_code, 'name': icd10_descs[icd_code]} for icd_code in icd10codes if icd_code in icd10_descs]\n",
    "    if cui in snomed_cdb.cui2info:\n",
    "        snomed_cdb.cui2info[cui]['icd10'] = icd_codes\n",
    "for cui, opcs4codes in cui2opcs4_mappings.items():\n",
    "    opcs_codes = [{'code': opcs_code, 'name': opcs4_descs[opcs_code]} for opcs_code in opcs4codes if opcs_code in opcs4_descs]\n",
    "    if cui in snomed_cdb.cui2info:\n",
    "        snomed_cdb.cui2info[cui]['opcs4'] = opcs_codes"
   ]
  },
  {
   "cell_type": "code",
   "execution_count": 145,
   "metadata": {},
   "outputs": [],
   "source": [
    "snomed_cdb.save_dict('./medcat_models/0.2.8+_snomed_cdb_mimic.dat')"
   ]
  },
  {
   "cell_type": "markdown",
   "metadata": {},
   "source": [
    "### Limit CDB to only include ICD-10 / OPCS-4 Concepts"
   ]
  },
  {
   "cell_type": "code",
   "execution_count": 147,
   "metadata": {},
   "outputs": [],
   "source": [
    "cuis_to_keep = [cui for cui in snomed_cdb.cui2names.keys() if 'icd10' in snomed_cdb.cui2info[cui] or 'opcs4' in snomed_cdb.cui2info[cui]]"
   ]
  },
  {
   "cell_type": "code",
   "execution_count": 150,
   "metadata": {},
   "outputs": [
    {
     "name": "stdout",
     "output_type": "stream",
     "text": [
      "FYI - with large CDBs this can take a long time.\n",
      "Gathering CUIs \n",
      "Cleaning up CUI maps...\n",
      "removed 10k concepts, 145809 to go...\n",
      "removed 10k concepts, 135809 to go...\n",
      "removed 10k concepts, 125809 to go...\n",
      "removed 10k concepts, 115809 to go...\n",
      "removed 10k concepts, 105809 to go...\n",
      "removed 10k concepts, 95809 to go...\n",
      "removed 10k concepts, 85809 to go...\n",
      "removed 10k concepts, 75809 to go...\n",
      "removed 10k concepts, 65809 to go...\n",
      "removed 10k concepts, 55809 to go...\n",
      "removed 10k concepts, 45809 to go...\n",
      "removed 10k concepts, 35809 to go...\n",
      "removed 10k concepts, 25809 to go...\n",
      "removed 10k concepts, 15809 to go...\n",
      "removed 10k concepts, 5809 to go...\n",
      "Done CUI cleaning\n",
      "Cleaning names...\n",
      "Done all\n",
      "CPU times: user 2.07 s, sys: 64.8 ms, total: 2.13 s\n",
      "Wall time: 2.13 s\n"
     ]
    }
   ],
   "source": [
    "%%time\n",
    "snomed_cdb.filter_by_cui(cuis_to_keep)"
   ]
  },
  {
   "cell_type": "code",
   "execution_count": 156,
   "metadata": {},
   "outputs": [],
   "source": [
    "snomed_cdb.save_dict('./medcat_models/0.2.8+_snomed_cdb_mimic_icd10_opcs4_only.dat')"
   ]
  }
 ],
 "metadata": {
  "kernelspec": {
   "display_name": "Python 3",
   "language": "python",
   "name": "python3"
  },
  "language_info": {
   "codemirror_mode": {
    "name": "ipython",
    "version": 3
   },
   "file_extension": ".py",
   "mimetype": "text/x-python",
   "name": "python",
   "nbconvert_exporter": "python",
   "pygments_lexer": "ipython3",
   "version": "3.6.10"
  }
 },
 "nbformat": 4,
 "nbformat_minor": 4
}
