{
 "cells": [
  {
   "cell_type": "markdown",
   "metadata": {},
   "source": [
    "# Exploring a SNOMED-CT uk extension Release\n",
    "\n",
    "A quick tutorial for opening SNOMED CT UK edition + drug extention with python"
   ]
  },
  {
   "cell_type": "code",
   "execution_count": 1,
   "metadata": {},
   "outputs": [],
   "source": [
    "import pandas as pd\n",
    "import numpy as np\n",
    "import json\n",
    "import re\n",
    "import os\n",
    "import hashlib"
   ]
  },
  {
   "cell_type": "markdown",
   "metadata": {},
   "source": [
    "## Loading the SNOMED UK extention release files"
   ]
  },
  {
   "cell_type": "code",
   "execution_count": 2,
   "metadata": {},
   "outputs": [],
   "source": [
    "snomed_dir = os.path.join(os.getcwd(),'SNOMED_UK')"
   ]
  },
  {
   "cell_type": "markdown",
   "metadata": {},
   "source": [
    "The version which is used here is the SNOMED 20200930 UK extension"
   ]
  },
  {
   "cell_type": "markdown",
   "metadata": {},
   "source": [
    "Use Snapshot, instead of Full, here, as Full contains all historical concepts since 2014. Delta only contains differences from last version.\n",
    "https://confluence.ihtsdotools.org/display/DOCGLOSS/Snapshot+release"
   ]
  },
  {
   "cell_type": "code",
   "execution_count": 3,
   "metadata": {},
   "outputs": [],
   "source": [
    "base_term = f'{snomed_dir}/uk_sct2cl_30.2.0_20200930000001/'\n",
    "int_terminology = base_term + 'SnomedCT_InternationalRF2_PRODUCTION_20190731T120000Z/Snapshot/Terminology'\n",
    "uk_ext_terminology = base_term + 'SnomedCT_UKClinicalRF2_PRODUCTION_20200930T000001Z/Snapshot/Terminology'"
   ]
  },
  {
   "cell_type": "code",
   "execution_count": 4,
   "metadata": {},
   "outputs": [],
   "source": [
    "def parse_file(filename, first_row_header=True, columns=None):\n",
    "    with open(filename, encoding='utf-8') as f:\n",
    "        entities = [[n.strip() for n in line.split('\\t')] for line in f]\n",
    "        return pd.DataFrame(entities[1:], columns=entities[0] if first_row_header else columns)"
   ]
  },
  {
   "cell_type": "markdown",
   "metadata": {},
   "source": [
    "## SNOMED CT Design\n",
    "\n",
    "### SNOMED CT Components\n",
    "SNOMED CT is a clinical terminology containing concepts with unique meanings and formal logic based definitions organised into hierarchies.\n",
    "For further information please see: https://confluence.ihtsdotools.org/display/DOCSTART/4.+SNOMED+CT+Basics\n",
    "\n",
    "SNOMED CT content is represented into 3 main types of components:\n",
    "- __Concepts__ representing clinical meanings that are organised into hierarchies.\n",
    "- __Descriptions__ which link appropriate human readable terms to concepts\n",
    "- __Relationships__ which link each concept to other related concepts"
   ]
  },
  {
   "cell_type": "markdown",
   "metadata": {},
   "source": [
    "__NOTE:__ SNOMED-CT (UK Ed.) is an extension to the Int Ed. Both sets of files (Int. and the UK Ext.) are released as part of one 'UK Release'."
   ]
  },
  {
   "cell_type": "markdown",
   "metadata": {},
   "source": [
    "Load and merge the active concept from the international and UK Extention __Concept snapshot__ files"
   ]
  },
  {
   "cell_type": "markdown",
   "metadata": {},
   "source": [
    "#### __Table 4.2.1-1:__ Concept file - Detailed Specification\n",
    "\n",
    "|Field|Data type|Purpose|Mutable|Part of Primary Key|\n",
    "|:-----|:-----|:-----|:-----|:-----|\n",
    "|id|SCTID|Uniquely Idenfies the concept|NO|YES (Full/Snapshot)|\n",
    "|effectiveTime|Time|Specifies the inclusive date at which the component version's state became the then current valid state of the component.|YES|YES (Full)<br>Optional (Snapshot)|\n",
    "|active|Boolean|Specifies whether the concept was active or inactive from the nominal release date specified by the effectiveTime.|YES|NO|\n",
    "|moduleId|SCTID|Identifies the concept version's module. Set to a descendant of 900000000000443000(Module) within the metadata hierarchy.|YES|NO|\n",
    "|definitionStatusId|SCTID|Specifies if the concept version is primitive or defined. Set to a descendant of 900000000000444006(Definition status)in the metadata hierarchy.|YES|NO|\n",
    "\n",
    "Taken from: https://confluence.ihtsdotools.org/display/DOCRELFMT"
   ]
  },
  {
   "cell_type": "code",
   "execution_count": 5,
   "metadata": {},
   "outputs": [],
   "source": [
    "int_terms = parse_file(f'{int_terminology}/sct2_Concept_Snapshot_INT_20190731.txt')\n",
    "uk_terms = parse_file(f'{uk_ext_terminology}/sct2_Concept_Snapshot_GB1000000_20200930.txt')\n",
    "terms = pd.concat([int_terms, uk_terms])\n",
    "active_terms = terms[terms.active == '1'] # active concepts are represented with 1"
   ]
  },
  {
   "cell_type": "code",
   "execution_count": 6,
   "metadata": {},
   "outputs": [
    {
     "data": {
      "text/html": [
       "<div>\n",
       "<style scoped>\n",
       "    .dataframe tbody tr th:only-of-type {\n",
       "        vertical-align: middle;\n",
       "    }\n",
       "\n",
       "    .dataframe tbody tr th {\n",
       "        vertical-align: top;\n",
       "    }\n",
       "\n",
       "    .dataframe thead th {\n",
       "        text-align: right;\n",
       "    }\n",
       "</style>\n",
       "<table border=\"1\" class=\"dataframe\">\n",
       "  <thead>\n",
       "    <tr style=\"text-align: right;\">\n",
       "      <th></th>\n",
       "      <th>id</th>\n",
       "      <th>effectiveTime</th>\n",
       "      <th>active</th>\n",
       "      <th>moduleId</th>\n",
       "      <th>definitionStatusId</th>\n",
       "    </tr>\n",
       "  </thead>\n",
       "  <tbody>\n",
       "    <tr>\n",
       "      <th>count</th>\n",
       "      <td>380165</td>\n",
       "      <td>380165</td>\n",
       "      <td>380165</td>\n",
       "      <td>380165</td>\n",
       "      <td>380165</td>\n",
       "    </tr>\n",
       "    <tr>\n",
       "      <th>unique</th>\n",
       "      <td>380165</td>\n",
       "      <td>72</td>\n",
       "      <td>1</td>\n",
       "      <td>5</td>\n",
       "      <td>2</td>\n",
       "    </tr>\n",
       "    <tr>\n",
       "      <th>top</th>\n",
       "      <td>429729007</td>\n",
       "      <td>20020131</td>\n",
       "      <td>1</td>\n",
       "      <td>900000000000207008</td>\n",
       "      <td>900000000000074008</td>\n",
       "    </tr>\n",
       "    <tr>\n",
       "      <th>freq</th>\n",
       "      <td>1</td>\n",
       "      <td>172004</td>\n",
       "      <td>380165</td>\n",
       "      <td>349097</td>\n",
       "      <td>268381</td>\n",
       "    </tr>\n",
       "  </tbody>\n",
       "</table>\n",
       "</div>"
      ],
      "text/plain": [
       "               id effectiveTime  active            moduleId  \\\n",
       "count      380165        380165  380165              380165   \n",
       "unique     380165            72       1                   5   \n",
       "top     429729007      20020131       1  900000000000207008   \n",
       "freq            1        172004  380165              349097   \n",
       "\n",
       "        definitionStatusId  \n",
       "count               380165  \n",
       "unique                   2  \n",
       "top     900000000000074008  \n",
       "freq                268381  "
      ]
     },
     "execution_count": 6,
     "metadata": {},
     "output_type": "execute_result"
    }
   ],
   "source": [
    "# Every concept has a unique concept identifier: active_terms['id'] \n",
    "active_terms.describe()"
   ]
  },
  {
   "cell_type": "markdown",
   "metadata": {},
   "source": [
    "Load and merge the active descriptions from the international and UK Extention __Description snapshot__ files"
   ]
  },
  {
   "cell_type": "markdown",
   "metadata": {},
   "source": [
    "#### __Table 4.2.2-1:__ Description file - Detailed Specification\n",
    "\n",
    "|Field|Data type|Purpose|Mutable|Part of Primary Key|\n",
    "|:-----|:-----|:-----|:-----|:-----|\n",
    "|id|SCTID|Uniquely identifies the description.|NO|YES (Full/Snapshot)|\n",
    "|effectiveTime|Time|Specifies the inclusive date at which the component version's state became the then current valid state of the component|YES|YES (Full)<br>Optional \\|Snapshot\\||\n",
    "|active|Boolean|Specifies whether the state of the description was active or inactive from the nominal release date specified by the effectiveTime.|YES|NO|\n",
    "|moduleId|SCTID|Identifies the description version's module. Set to a child of 900000000000443000\\|Module\\| within the metadata hierarchy.|YES|NO|\n",
    "|conceptId|SCTID|Identifies the concept to which this description applies. Set to the identifier of a concept in the 138875005 \\|SNOMED CT Concept\\| hierarchy within the Concept. Note that a specific version of a description is not directly bound to a specific version of the concept to which it applies. Which version of a description applies to a concept depends on its effectiveTime and the point in time at which it is accessed.|NO|NO|\n",
    "|languageCode|String|Specifies the language of the description text using the two character ISO-639-1 code. Note that this specifies a language level only, not a dialect or country code.|NO|NO|\n",
    "|typeId|SCTID|Identifies whether the description is fully specified name a synonym or other description type. This field is set to a child of 900000000000446008\\|Description type\\| in the Metadata hierarchy.|NO|NO|\n",
    "|term|String|The description version's text value, represented in UTF-8 encoding.|YES|NO|\n",
    "|caseSignificanceId|SCTID|Identifies the concept enumeration value that represents the case significance of this description version. For example, the term may be completely case sensitive, case insensitive or initial letter case insensitive. This field will be set to a child of 900000000000447004\\|Case significance\\| within the metadata hierarchy.|YES|NO|\n",
    "\n",
    "Taken from: https://confluence.ihtsdotools.org/display/DOCRELFMT"
   ]
  },
  {
   "cell_type": "code",
   "execution_count": 7,
   "metadata": {},
   "outputs": [],
   "source": [
    "int_desc = parse_file(f'{int_terminology}/sct2_Description_Snapshot-en_INT_20190731.txt')\n",
    "uk_desc = parse_file(f'{uk_ext_terminology}/sct2_Description_Snapshot-en_GB1000000_20200930.txt')\n",
    "descs = pd.concat([int_desc, uk_desc])\n",
    "active_descs = descs[descs.active == '1']"
   ]
  },
  {
   "cell_type": "code",
   "execution_count": 8,
   "metadata": {},
   "outputs": [
    {
     "data": {
      "text/html": [
       "<div>\n",
       "<style scoped>\n",
       "    .dataframe tbody tr th:only-of-type {\n",
       "        vertical-align: middle;\n",
       "    }\n",
       "\n",
       "    .dataframe tbody tr th {\n",
       "        vertical-align: top;\n",
       "    }\n",
       "\n",
       "    .dataframe thead th {\n",
       "        text-align: right;\n",
       "    }\n",
       "</style>\n",
       "<table border=\"1\" class=\"dataframe\">\n",
       "  <thead>\n",
       "    <tr style=\"text-align: right;\">\n",
       "      <th></th>\n",
       "      <th>id</th>\n",
       "      <th>effectiveTime</th>\n",
       "      <th>active</th>\n",
       "      <th>moduleId</th>\n",
       "      <th>conceptId</th>\n",
       "      <th>languageCode</th>\n",
       "      <th>typeId</th>\n",
       "      <th>term</th>\n",
       "      <th>caseSignificanceId</th>\n",
       "    </tr>\n",
       "  </thead>\n",
       "  <tbody>\n",
       "    <tr>\n",
       "      <th>0</th>\n",
       "      <td>101013</td>\n",
       "      <td>20170731</td>\n",
       "      <td>1</td>\n",
       "      <td>900000000000207008</td>\n",
       "      <td>126813005</td>\n",
       "      <td>en</td>\n",
       "      <td>900000000000013009</td>\n",
       "      <td>Neoplasm of anterior aspect of epiglottis</td>\n",
       "      <td>900000000000448009</td>\n",
       "    </tr>\n",
       "    <tr>\n",
       "      <th>1</th>\n",
       "      <td>102018</td>\n",
       "      <td>20170731</td>\n",
       "      <td>1</td>\n",
       "      <td>900000000000207008</td>\n",
       "      <td>126814004</td>\n",
       "      <td>en</td>\n",
       "      <td>900000000000013009</td>\n",
       "      <td>Neoplasm of junctional region of epiglottis</td>\n",
       "      <td>900000000000448009</td>\n",
       "    </tr>\n",
       "    <tr>\n",
       "      <th>2</th>\n",
       "      <td>103011</td>\n",
       "      <td>20170731</td>\n",
       "      <td>1</td>\n",
       "      <td>900000000000207008</td>\n",
       "      <td>126815003</td>\n",
       "      <td>en</td>\n",
       "      <td>900000000000013009</td>\n",
       "      <td>Neoplasm of lateral wall of oropharynx</td>\n",
       "      <td>900000000000448009</td>\n",
       "    </tr>\n",
       "    <tr>\n",
       "      <th>3</th>\n",
       "      <td>104017</td>\n",
       "      <td>20170731</td>\n",
       "      <td>1</td>\n",
       "      <td>900000000000207008</td>\n",
       "      <td>126816002</td>\n",
       "      <td>en</td>\n",
       "      <td>900000000000013009</td>\n",
       "      <td>Neoplasm of posterior wall of oropharynx</td>\n",
       "      <td>900000000000448009</td>\n",
       "    </tr>\n",
       "    <tr>\n",
       "      <th>4</th>\n",
       "      <td>105016</td>\n",
       "      <td>20170731</td>\n",
       "      <td>1</td>\n",
       "      <td>900000000000207008</td>\n",
       "      <td>126817006</td>\n",
       "      <td>en</td>\n",
       "      <td>900000000000013009</td>\n",
       "      <td>Neoplasm of esophagus</td>\n",
       "      <td>900000000000448009</td>\n",
       "    </tr>\n",
       "  </tbody>\n",
       "</table>\n",
       "</div>"
      ],
      "text/plain": [
       "       id effectiveTime active            moduleId  conceptId languageCode  \\\n",
       "0  101013      20170731      1  900000000000207008  126813005           en   \n",
       "1  102018      20170731      1  900000000000207008  126814004           en   \n",
       "2  103011      20170731      1  900000000000207008  126815003           en   \n",
       "3  104017      20170731      1  900000000000207008  126816002           en   \n",
       "4  105016      20170731      1  900000000000207008  126817006           en   \n",
       "\n",
       "               typeId                                         term  \\\n",
       "0  900000000000013009    Neoplasm of anterior aspect of epiglottis   \n",
       "1  900000000000013009  Neoplasm of junctional region of epiglottis   \n",
       "2  900000000000013009       Neoplasm of lateral wall of oropharynx   \n",
       "3  900000000000013009     Neoplasm of posterior wall of oropharynx   \n",
       "4  900000000000013009                        Neoplasm of esophagus   \n",
       "\n",
       "   caseSignificanceId  \n",
       "0  900000000000448009  \n",
       "1  900000000000448009  \n",
       "2  900000000000448009  \n",
       "3  900000000000448009  \n",
       "4  900000000000448009  "
      ]
     },
     "execution_count": 8,
     "metadata": {},
     "output_type": "execute_result"
    }
   ],
   "source": [
    "active_descs.head()"
   ]
  },
  {
   "cell_type": "markdown",
   "metadata": {},
   "source": [
    "Load and merge the relationships from the international and UK Extention __Relationship snapshot__ files"
   ]
  },
  {
   "cell_type": "markdown",
   "metadata": {},
   "source": [
    "#### __Table 4.2.3-1:__ Relationship file - Detailed specification\n",
    "\n",
    "|Field|Data type|Purpose|Mutable|Part of Primary Key|\n",
    "|:-----|:-----|:-----|:-----|:-----|\n",
    "|id|SCTID|Uniquely identifies the relationship.|NO|YES(Full/Snapshot)|\n",
    "|effectiveTime|Time|Specifies the inclusive date at which the component version's state became the then current valid state of the component.|YES|YES(Full) Optional(Snapshot)|\n",
    "|active|Boolean|Specifies whether the state of the relationship was active or inactive from the nominal release date specified by the effectiveTime field.|YES|NO|\n",
    "|moduleId|SCTID|Identifies the relationship version's module. Set to a child of 900000000000443000\\|Module\\| within the metadata hierarchy.|YES|NO|\n",
    "|sourceId|SCTID|Identifies the source concept of the relationship version. That is the concept defined by this relationship. Set to the identifier of a concept.|NO|NO|\n",
    "|destinationId|SCTID|Identifies the concept that is the destination of the relationship version.<br>That is the concept representing the value of the attribute represented by the typeId column.<br>Set to the identifier of a concept.<br>Note that the values that can be applied to particular attributes are formally defined by the SNOMED CT Machine Readable Concept Model.|NO|NO|\n",
    "|relationshipGroup|Integer|Groups together relationship versions that are part of a logically associated relationshipGroup. All active Relationship records with the same relationshipGroup number and sourceId are grouped in this way.|YES|NO|\n",
    "|typeId|SCTID|Identifies the concept that represent the defining attribute (or relationship type) represented by this relationship version.<br><br>That is the concept representing the value of the attribute represented by the typeId column. <br><br>Set to the identifier of a concept. The concept identified must be either 116680003\\|Is a\\| or a subtype of 410662002\\|Concept model attribute\\|. The concepts that can be used as in the typeId column are formally defined as follows:<br>116680003\\|is a\\| OR < 410662002\\|concept model attribute\\|<br><br>__Note__ that the attributes that can be applied to particular concepts are formally defined by the SNOMED CT Machine Readable Concept Model.|NO|NO|\n",
    "|characteristicTypeId|SCTID|A concept enumeration value that identifies the characteristic type of the relationship version (i.e. whether the relationship version is defining, qualifying, etc.) This field is set to a descendant of 900000000000449001\\|Characteristic type\\|in the metadata hierarchy.|YES|NO|\n",
    "|modifierId|SCTID|A concept enumeration value that identifies the type of Description Logic(DL) restriction (some, all, etc.). Set to a child of 900000000000450001\\|Modifier\\| in the metadata hierarchy.<br> __Note__ Currently the only value used in this column is 900000000000451002\\|Some\\| and thus in practical terms this column can be ignored.|YES|NO|\n",
    "\n",
    "Taken from: https://confluence.ihtsdotools.org/display/DOCRELFMT"
   ]
  },
  {
   "cell_type": "code",
   "execution_count": 9,
   "metadata": {},
   "outputs": [],
   "source": [
    "int_relat = parse_file(f'{int_terminology}/sct2_Relationship_Snapshot_INT_20190731.txt')\n",
    "uk_relat = parse_file(f'{uk_ext_terminology}/sct2_Relationship_Snapshot_GB1000000_20200930.txt')\n",
    "relat = pd.concat([int_relat, uk_relat])\n",
    "active_relat = relat[relat.active == '1']"
   ]
  },
  {
   "cell_type": "code",
   "execution_count": 10,
   "metadata": {},
   "outputs": [
    {
     "data": {
      "text/html": [
       "<div>\n",
       "<style scoped>\n",
       "    .dataframe tbody tr th:only-of-type {\n",
       "        vertical-align: middle;\n",
       "    }\n",
       "\n",
       "    .dataframe tbody tr th {\n",
       "        vertical-align: top;\n",
       "    }\n",
       "\n",
       "    .dataframe thead th {\n",
       "        text-align: right;\n",
       "    }\n",
       "</style>\n",
       "<table border=\"1\" class=\"dataframe\">\n",
       "  <thead>\n",
       "    <tr style=\"text-align: right;\">\n",
       "      <th></th>\n",
       "      <th>id</th>\n",
       "      <th>effectiveTime</th>\n",
       "      <th>active</th>\n",
       "      <th>moduleId</th>\n",
       "      <th>sourceId</th>\n",
       "      <th>destinationId</th>\n",
       "      <th>relationshipGroup</th>\n",
       "      <th>typeId</th>\n",
       "      <th>characteristicTypeId</th>\n",
       "      <th>modifierId</th>\n",
       "    </tr>\n",
       "  </thead>\n",
       "  <tbody>\n",
       "    <tr>\n",
       "      <th>1</th>\n",
       "      <td>101021</td>\n",
       "      <td>20020131</td>\n",
       "      <td>1</td>\n",
       "      <td>900000000000207008</td>\n",
       "      <td>10000006</td>\n",
       "      <td>29857009</td>\n",
       "      <td>0</td>\n",
       "      <td>116680003</td>\n",
       "      <td>900000000000011006</td>\n",
       "      <td>900000000000451002</td>\n",
       "    </tr>\n",
       "    <tr>\n",
       "      <th>2</th>\n",
       "      <td>102025</td>\n",
       "      <td>20020131</td>\n",
       "      <td>1</td>\n",
       "      <td>900000000000207008</td>\n",
       "      <td>10000006</td>\n",
       "      <td>9972008</td>\n",
       "      <td>0</td>\n",
       "      <td>116680003</td>\n",
       "      <td>900000000000011006</td>\n",
       "      <td>900000000000451002</td>\n",
       "    </tr>\n",
       "    <tr>\n",
       "      <th>13</th>\n",
       "      <td>114022</td>\n",
       "      <td>20020131</td>\n",
       "      <td>1</td>\n",
       "      <td>900000000000207008</td>\n",
       "      <td>134035007</td>\n",
       "      <td>84371003</td>\n",
       "      <td>0</td>\n",
       "      <td>116680003</td>\n",
       "      <td>900000000000011006</td>\n",
       "      <td>900000000000451002</td>\n",
       "    </tr>\n",
       "    <tr>\n",
       "      <th>26</th>\n",
       "      <td>127021</td>\n",
       "      <td>20020131</td>\n",
       "      <td>1</td>\n",
       "      <td>900000000000207008</td>\n",
       "      <td>134136005</td>\n",
       "      <td>57250008</td>\n",
       "      <td>0</td>\n",
       "      <td>116680003</td>\n",
       "      <td>900000000000011006</td>\n",
       "      <td>900000000000451002</td>\n",
       "    </tr>\n",
       "    <tr>\n",
       "      <th>29</th>\n",
       "      <td>130025</td>\n",
       "      <td>20020131</td>\n",
       "      <td>1</td>\n",
       "      <td>900000000000207008</td>\n",
       "      <td>10002003</td>\n",
       "      <td>116175006</td>\n",
       "      <td>0</td>\n",
       "      <td>116680003</td>\n",
       "      <td>900000000000011006</td>\n",
       "      <td>900000000000451002</td>\n",
       "    </tr>\n",
       "  </tbody>\n",
       "</table>\n",
       "</div>"
      ],
      "text/plain": [
       "        id effectiveTime active            moduleId   sourceId destinationId  \\\n",
       "1   101021      20020131      1  900000000000207008   10000006      29857009   \n",
       "2   102025      20020131      1  900000000000207008   10000006       9972008   \n",
       "13  114022      20020131      1  900000000000207008  134035007      84371003   \n",
       "26  127021      20020131      1  900000000000207008  134136005      57250008   \n",
       "29  130025      20020131      1  900000000000207008   10002003     116175006   \n",
       "\n",
       "   relationshipGroup     typeId characteristicTypeId          modifierId  \n",
       "1                  0  116680003   900000000000011006  900000000000451002  \n",
       "2                  0  116680003   900000000000011006  900000000000451002  \n",
       "13                 0  116680003   900000000000011006  900000000000451002  \n",
       "26                 0  116680003   900000000000011006  900000000000451002  \n",
       "29                 0  116680003   900000000000011006  900000000000451002  "
      ]
     },
     "execution_count": 10,
     "metadata": {},
     "output_type": "execute_result"
    }
   ],
   "source": [
    "active_relat.head()"
   ]
  },
  {
   "cell_type": "markdown",
   "metadata": {},
   "source": [
    "## SNOMED CT Concept Model"
   ]
  },
  {
   "cell_type": "markdown",
   "metadata": {},
   "source": [
    "<img src=\"img/Association Between Files from 2019.png\">\n",
    "\n",
    "Taken from: https://confluence.ihtsdotools.org/display/DOCRELFMT"
   ]
  },
  {
   "cell_type": "markdown",
   "metadata": {},
   "source": [
    "Find the fully specified name, Synonym or Definition of a SNOMED concept\n",
    "\n",
    "__Description type__\n",
    "\n",
    "|Type id|Term|\n",
    "|:---:|:---|\n",
    "|900000000000003001|Fully specified name|\n",
    "|900000000000013009|Synonym|\n",
    "|900000000000550004|Definition|\n"
   ]
  },
  {
   "cell_type": "markdown",
   "metadata": {},
   "source": [
    "Create a DataFrame which contains only the active SNOMED codes and thier fully specified name"
   ]
  },
  {
   "cell_type": "code",
   "execution_count": 11,
   "metadata": {},
   "outputs": [
    {
     "data": {
      "text/html": [
       "<div>\n",
       "<style scoped>\n",
       "    .dataframe tbody tr th:only-of-type {\n",
       "        vertical-align: middle;\n",
       "    }\n",
       "\n",
       "    .dataframe tbody tr th {\n",
       "        vertical-align: top;\n",
       "    }\n",
       "\n",
       "    .dataframe thead th {\n",
       "        text-align: right;\n",
       "    }\n",
       "</style>\n",
       "<table border=\"1\" class=\"dataframe\">\n",
       "  <thead>\n",
       "    <tr style=\"text-align: right;\">\n",
       "      <th></th>\n",
       "      <th>id_x</th>\n",
       "      <th>effectiveTime_x</th>\n",
       "      <th>active_x</th>\n",
       "      <th>moduleId_x</th>\n",
       "      <th>definitionStatusId</th>\n",
       "      <th>id_y</th>\n",
       "      <th>effectiveTime_y</th>\n",
       "      <th>active_y</th>\n",
       "      <th>moduleId_y</th>\n",
       "      <th>conceptId</th>\n",
       "      <th>languageCode</th>\n",
       "      <th>typeId</th>\n",
       "      <th>term</th>\n",
       "      <th>caseSignificanceId</th>\n",
       "    </tr>\n",
       "  </thead>\n",
       "  <tbody>\n",
       "    <tr>\n",
       "      <th>count</th>\n",
       "      <td>380165</td>\n",
       "      <td>380165</td>\n",
       "      <td>380165</td>\n",
       "      <td>380165</td>\n",
       "      <td>380165</td>\n",
       "      <td>380165</td>\n",
       "      <td>380165</td>\n",
       "      <td>380165</td>\n",
       "      <td>380165</td>\n",
       "      <td>380165</td>\n",
       "      <td>380165</td>\n",
       "      <td>380165</td>\n",
       "      <td>380165</td>\n",
       "      <td>380165</td>\n",
       "    </tr>\n",
       "    <tr>\n",
       "      <th>unique</th>\n",
       "      <td>380165</td>\n",
       "      <td>72</td>\n",
       "      <td>1</td>\n",
       "      <td>5</td>\n",
       "      <td>2</td>\n",
       "      <td>380165</td>\n",
       "      <td>70</td>\n",
       "      <td>1</td>\n",
       "      <td>5</td>\n",
       "      <td>380165</td>\n",
       "      <td>1</td>\n",
       "      <td>1</td>\n",
       "      <td>380165</td>\n",
       "      <td>3</td>\n",
       "    </tr>\n",
       "    <tr>\n",
       "      <th>top</th>\n",
       "      <td>429729007</td>\n",
       "      <td>20020131</td>\n",
       "      <td>1</td>\n",
       "      <td>900000000000207008</td>\n",
       "      <td>900000000000074008</td>\n",
       "      <td>666482010</td>\n",
       "      <td>20170731</td>\n",
       "      <td>1</td>\n",
       "      <td>900000000000207008</td>\n",
       "      <td>429729007</td>\n",
       "      <td>en</td>\n",
       "      <td>900000000000003001</td>\n",
       "      <td>Cocarboxylase tetrahydrate (substance)</td>\n",
       "      <td>900000000000448009</td>\n",
       "    </tr>\n",
       "    <tr>\n",
       "      <th>freq</th>\n",
       "      <td>1</td>\n",
       "      <td>172004</td>\n",
       "      <td>380165</td>\n",
       "      <td>349097</td>\n",
       "      <td>268381</td>\n",
       "      <td>1</td>\n",
       "      <td>241600</td>\n",
       "      <td>380165</td>\n",
       "      <td>349098</td>\n",
       "      <td>1</td>\n",
       "      <td>380165</td>\n",
       "      <td>380165</td>\n",
       "      <td>1</td>\n",
       "      <td>280125</td>\n",
       "    </tr>\n",
       "  </tbody>\n",
       "</table>\n",
       "</div>"
      ],
      "text/plain": [
       "             id_x effectiveTime_x active_x          moduleId_x  \\\n",
       "count      380165          380165   380165              380165   \n",
       "unique     380165              72        1                   5   \n",
       "top     429729007        20020131        1  900000000000207008   \n",
       "freq            1          172004   380165              349097   \n",
       "\n",
       "        definitionStatusId       id_y effectiveTime_y active_y  \\\n",
       "count               380165     380165          380165   380165   \n",
       "unique                   2     380165              70        1   \n",
       "top     900000000000074008  666482010        20170731        1   \n",
       "freq                268381          1          241600   380165   \n",
       "\n",
       "                moduleId_y  conceptId languageCode              typeId  \\\n",
       "count               380165     380165       380165              380165   \n",
       "unique                   5     380165            1                   1   \n",
       "top     900000000000207008  429729007           en  900000000000003001   \n",
       "freq                349098          1       380165              380165   \n",
       "\n",
       "                                          term  caseSignificanceId  \n",
       "count                                   380165              380165  \n",
       "unique                                  380165                   3  \n",
       "top     Cocarboxylase tetrahydrate (substance)  900000000000448009  \n",
       "freq                                         1              280125  "
      ]
     },
     "execution_count": 11,
     "metadata": {},
     "output_type": "execute_result"
    }
   ],
   "source": [
    "active_with_desc = pd.merge(active_terms, active_descs[active_descs['typeId'] == '900000000000003001'], left_on=['id'], right_on=['conceptId'], how='inner')\n",
    "active_with_desc.describe()\n"
   ]
  },
  {
   "cell_type": "markdown",
   "metadata": {},
   "source": [
    "### Inspect snomed for duplicate entries\n",
    "So for some reason there are 3 concepts which have 2 active primary descriptions."
   ]
  },
  {
   "cell_type": "code",
   "execution_count": 12,
   "metadata": {},
   "outputs": [
    {
     "data": {
      "text/html": [
       "<div>\n",
       "<style scoped>\n",
       "    .dataframe tbody tr th:only-of-type {\n",
       "        vertical-align: middle;\n",
       "    }\n",
       "\n",
       "    .dataframe tbody tr th {\n",
       "        vertical-align: top;\n",
       "    }\n",
       "\n",
       "    .dataframe thead th {\n",
       "        text-align: right;\n",
       "    }\n",
       "</style>\n",
       "<table border=\"1\" class=\"dataframe\">\n",
       "  <thead>\n",
       "    <tr style=\"text-align: right;\">\n",
       "      <th></th>\n",
       "      <th>id_x</th>\n",
       "      <th>effectiveTime_x</th>\n",
       "      <th>active_x</th>\n",
       "      <th>moduleId_x</th>\n",
       "      <th>definitionStatusId</th>\n",
       "      <th>id_y</th>\n",
       "      <th>effectiveTime_y</th>\n",
       "      <th>active_y</th>\n",
       "      <th>moduleId_y</th>\n",
       "      <th>conceptId</th>\n",
       "      <th>languageCode</th>\n",
       "      <th>typeId</th>\n",
       "      <th>term</th>\n",
       "      <th>caseSignificanceId</th>\n",
       "    </tr>\n",
       "  </thead>\n",
       "  <tbody>\n",
       "  </tbody>\n",
       "</table>\n",
       "</div>"
      ],
      "text/plain": [
       "Empty DataFrame\n",
       "Columns: [id_x, effectiveTime_x, active_x, moduleId_x, definitionStatusId, id_y, effectiveTime_y, active_y, moduleId_y, conceptId, languageCode, typeId, term, caseSignificanceId]\n",
       "Index: []"
      ]
     },
     "execution_count": 12,
     "metadata": {},
     "output_type": "execute_result"
    }
   ],
   "source": [
    "# Inspect the duplicates\n",
    "active_with_desc[active_with_desc.duplicated(['id_x'], keep='first')]"
   ]
  },
  {
   "cell_type": "code",
   "execution_count": 13,
   "metadata": {},
   "outputs": [],
   "source": [
    "# drop duplicates\n",
    "active_with_desc = active_with_desc.drop_duplicates(['id_x'], keep='first')\n",
    "assert len(active_with_desc) == len(active_terms)"
   ]
  },
  {
   "cell_type": "markdown",
   "metadata": {},
   "source": [
    "## Create the Semantic tags\n",
    "Create the top-level Concept which each concept is linked to:\n",
    "tui -> term unique identifier"
   ]
  },
  {
   "cell_type": "code",
   "execution_count": 14,
   "metadata": {},
   "outputs": [],
   "source": [
    "active_with_desc['semantic_tag'] = active_with_desc['term'].str.extract(r\"\\((\\w+\\s?.?\\s?\\w+.?\\w+.?\\w+.?)\\)$\")"
   ]
  },
  {
   "cell_type": "code",
   "execution_count": 15,
   "metadata": {},
   "outputs": [
    {
     "data": {
      "text/plain": [
       "array([], shape=(0, 15), dtype=object)"
      ]
     },
     "execution_count": 15,
     "metadata": {},
     "output_type": "execute_result"
    }
   ],
   "source": [
    "active_with_desc[active_with_desc['semantic_tag'].isnull()].values"
   ]
  },
  {
   "cell_type": "code",
   "execution_count": 16,
   "metadata": {},
   "outputs": [
    {
     "data": {
      "text/plain": [
       "array(['organism', 'substance', 'procedure', 'body structure', 'disorder',\n",
       "       'occupation', 'finding', 'qualifier value',\n",
       "       'morphologic abnormality', 'cell structure', 'physical object',\n",
       "       'regime/therapy', 'product', 'medicinal product', 'cell', 'person',\n",
       "       'ethnic group', 'environment', 'observable entity', 'event',\n",
       "       'religion/philosophy', 'attribute', 'physical force', 'situation',\n",
       "       'medicinal product form', 'navigational concept', 'clinical drug',\n",
       "       'social concept', 'tumor staging', 'specimen', 'basic dose form',\n",
       "       'life style', 'dose form', 'linkage concept', 'staging scale',\n",
       "       'record artifact', 'assessment scale', 'SNOMED RT+CTV3',\n",
       "       'geographic location', 'environment / location',\n",
       "       'inactive concept', 'special concept', 'namespace concept',\n",
       "       'racial group', 'link assertion', 'foundation metadata concept',\n",
       "       'core metadata concept', 'disposition', 'unit of presentation',\n",
       "       'OWL metadata concept', 'number', 'state of matter',\n",
       "       'transformation', 'intended site', 'release characteristic',\n",
       "       'administration method', 'role', 'supplier', 'product name',\n",
       "       'metadata'], dtype=object)"
      ]
     },
     "execution_count": 16,
     "metadata": {},
     "output_type": "execute_result"
    }
   ],
   "source": [
    "# The number of unique Semantic tags\n",
    "active_with_desc['semantic_tag'].unique()"
   ]
  },
  {
   "cell_type": "markdown",
   "metadata": {},
   "source": [
    "Explore what each tui contains:"
   ]
  },
  {
   "cell_type": "code",
   "execution_count": 32,
   "metadata": {},
   "outputs": [
    {
     "data": {
      "text/html": [
       "<div>\n",
       "<style scoped>\n",
       "    .dataframe tbody tr th:only-of-type {\n",
       "        vertical-align: middle;\n",
       "    }\n",
       "\n",
       "    .dataframe tbody tr th {\n",
       "        vertical-align: top;\n",
       "    }\n",
       "\n",
       "    .dataframe thead th {\n",
       "        text-align: right;\n",
       "    }\n",
       "</style>\n",
       "<table border=\"1\" class=\"dataframe\">\n",
       "  <thead>\n",
       "    <tr style=\"text-align: right;\">\n",
       "      <th></th>\n",
       "      <th>id_x</th>\n",
       "      <th>effectiveTime_x</th>\n",
       "      <th>active_x</th>\n",
       "      <th>moduleId_x</th>\n",
       "      <th>definitionStatusId</th>\n",
       "      <th>id_y</th>\n",
       "      <th>effectiveTime_y</th>\n",
       "      <th>active_y</th>\n",
       "      <th>moduleId_y</th>\n",
       "      <th>conceptId</th>\n",
       "      <th>languageCode</th>\n",
       "      <th>typeId</th>\n",
       "      <th>term</th>\n",
       "      <th>caseSignificanceId</th>\n",
       "      <th>semantic_tag</th>\n",
       "    </tr>\n",
       "  </thead>\n",
       "  <tbody>\n",
       "    <tr>\n",
       "      <th>329585</th>\n",
       "      <td>774167006</td>\n",
       "      <td>20190131</td>\n",
       "      <td>1</td>\n",
       "      <td>900000000000207008</td>\n",
       "      <td>900000000000074008</td>\n",
       "      <td>3728216019</td>\n",
       "      <td>20190131</td>\n",
       "      <td>1</td>\n",
       "      <td>900000000000207008</td>\n",
       "      <td>774167006</td>\n",
       "      <td>en</td>\n",
       "      <td>900000000000003001</td>\n",
       "      <td>Product name (product name)</td>\n",
       "      <td>900000000000448009</td>\n",
       "      <td>product name</td>\n",
       "    </tr>\n",
       "  </tbody>\n",
       "</table>\n",
       "</div>"
      ],
      "text/plain": [
       "             id_x effectiveTime_x active_x          moduleId_x  \\\n",
       "329585  774167006        20190131        1  900000000000207008   \n",
       "\n",
       "        definitionStatusId        id_y effectiveTime_y active_y  \\\n",
       "329585  900000000000074008  3728216019        20190131        1   \n",
       "\n",
       "                moduleId_y  conceptId languageCode              typeId  \\\n",
       "329585  900000000000207008  774167006           en  900000000000003001   \n",
       "\n",
       "                               term  caseSignificanceId  semantic_tag  \n",
       "329585  Product name (product name)  900000000000448009  product name  "
      ]
     },
     "execution_count": 32,
     "metadata": {},
     "output_type": "execute_result"
    }
   ],
   "source": [
    "active_with_desc[active_with_desc['semantic_tag'] == 'product name']"
   ]
  },
  {
   "cell_type": "markdown",
   "metadata": {},
   "source": [
    "# Create the input required for a MedCAT concept database\n",
    "If there is any drug extentions skip to the next section"
   ]
  },
  {
   "cell_type": "markdown",
   "metadata": {},
   "source": [
    "#### Create a MedCAT concept database including all synonyms"
   ]
  },
  {
   "cell_type": "code",
   "execution_count": 74,
   "metadata": {},
   "outputs": [],
   "source": [
    "_ = pd.merge(active_terms, active_descs, left_on=['id'], right_on=['conceptId'], how='inner')\n",
    "active_with_primary_desc = _[_['typeId'] == '900000000000003001']\n",
    "active_with_primary_desc = active_with_primary_desc.drop_duplicates(['id_x'], keep='first')\n",
    "active_with_synonym_desc = _[_['typeId'] == '900000000000013009']\n",
    "active_with_all_desc = pd.concat([active_with_primary_desc, active_with_synonym_desc])"
   ]
  },
  {
   "cell_type": "code",
   "execution_count": 75,
   "metadata": {},
   "outputs": [],
   "source": [
    "# Check if there are the same amount of active concepts\n",
    "assert len(active_with_all_desc[active_with_all_desc['typeId'] == '900000000000003001']) == len(active_terms)"
   ]
  },
  {
   "cell_type": "code",
   "execution_count": 79,
   "metadata": {},
   "outputs": [],
   "source": [
    "snomed_cdb_df = pd.merge(active_with_all_desc, active_with_desc, left_on=['id_x'], right_on=['conceptId'], how='inner')"
   ]
  },
  {
   "cell_type": "code",
   "execution_count": 77,
   "metadata": {
    "scrolled": false
   },
   "outputs": [
    {
     "data": {
      "text/html": [
       "<div>\n",
       "<style scoped>\n",
       "    .dataframe tbody tr th:only-of-type {\n",
       "        vertical-align: middle;\n",
       "    }\n",
       "\n",
       "    .dataframe tbody tr th {\n",
       "        vertical-align: top;\n",
       "    }\n",
       "\n",
       "    .dataframe thead th {\n",
       "        text-align: right;\n",
       "    }\n",
       "</style>\n",
       "<table border=\"1\" class=\"dataframe\">\n",
       "  <thead>\n",
       "    <tr style=\"text-align: right;\">\n",
       "      <th></th>\n",
       "      <th>cui</th>\n",
       "      <th>name</th>\n",
       "      <th>name_status</th>\n",
       "      <th>semantic_tag</th>\n",
       "      <th>ontologies</th>\n",
       "    </tr>\n",
       "  </thead>\n",
       "  <tbody>\n",
       "    <tr>\n",
       "      <th>0</th>\n",
       "      <td>101009</td>\n",
       "      <td>Quilonia ethiopica (organism)</td>\n",
       "      <td>P</td>\n",
       "      <td>organism</td>\n",
       "      <td>SNOMED-CT</td>\n",
       "    </tr>\n",
       "    <tr>\n",
       "      <th>1</th>\n",
       "      <td>101009</td>\n",
       "      <td>Quilonia ethiopica</td>\n",
       "      <td>A</td>\n",
       "      <td>organism</td>\n",
       "      <td>SNOMED-CT</td>\n",
       "    </tr>\n",
       "    <tr>\n",
       "      <th>2</th>\n",
       "      <td>102002</td>\n",
       "      <td>Hemoglobin Okaloosa (substance)</td>\n",
       "      <td>P</td>\n",
       "      <td>substance</td>\n",
       "      <td>SNOMED-CT</td>\n",
       "    </tr>\n",
       "    <tr>\n",
       "      <th>3</th>\n",
       "      <td>102002</td>\n",
       "      <td>Hemoglobin Okaloosa</td>\n",
       "      <td>A</td>\n",
       "      <td>substance</td>\n",
       "      <td>SNOMED-CT</td>\n",
       "    </tr>\n",
       "    <tr>\n",
       "      <th>4</th>\n",
       "      <td>102002</td>\n",
       "      <td>Hb 48(CD7), Leu-arg</td>\n",
       "      <td>A</td>\n",
       "      <td>substance</td>\n",
       "      <td>SNOMED-CT</td>\n",
       "    </tr>\n",
       "  </tbody>\n",
       "</table>\n",
       "</div>"
      ],
      "text/plain": [
       "      cui                             name name_status semantic_tag ontologies\n",
       "0  101009    Quilonia ethiopica (organism)           P     organism  SNOMED-CT\n",
       "1  101009               Quilonia ethiopica           A     organism  SNOMED-CT\n",
       "2  102002  Hemoglobin Okaloosa (substance)           P    substance  SNOMED-CT\n",
       "3  102002              Hemoglobin Okaloosa           A    substance  SNOMED-CT\n",
       "4  102002              Hb 48(CD7), Leu-arg           A    substance  SNOMED-CT"
      ]
     },
     "execution_count": 77,
     "metadata": {},
     "output_type": "execute_result"
    }
   ],
   "source": [
    "# clean up the merge and rename the columns to fit the medcat Concept database criteria\n",
    "snomed_cdb_df = snomed_cdb_df.loc[:, ['id_x_x','term_x','typeId_x','semantic_tag']]\n",
    "snomed_cdb_df.columns = ['cui', 'name', 'name_status', 'semantic_tag']\n",
    "snomed_cdb_df['ontologies'] = 'SNOMED-CT'\n",
    "snomed_cdb_df['name_status'] = snomed_cdb_df['name_status'].replace(['900000000000003001', '900000000000013009'], ['P','A'])\n",
    "snomed_cdb_df.head()\n"
   ]
  },
  {
   "cell_type": "markdown",
   "metadata": {},
   "source": [
    "There are 58 Semantic Tag categories total in the SNOMED taxonomy\n",
    "- There is one root concept.\n",
    "- There are 19 top level terms in bold.\n",
    "- There are 39 sub terms.\n",
    "\n",
    "Note there are likely to now be additional categories\n",
    "\n",
    "Each semantic Tag is provided with a __type_id__ which are simply hashes of the tag:\n",
    "\n",
    "\n",
    "\n",
    "### Specifying top levels terms and Semantic Tags\n",
    "\n",
    "|Top level code |Semantic Tag|\n",
    "|:---:|:---|\n",
    "|__Root code__|__SNOMED RT+CTV3__|\n",
    "|||\n",
    "|__Y__|__Body structure (body structure)__|\n",
    "|N|morphologic abnormality|\n",
    "|N|cell structure|\n",
    "|N|cell|\n",
    "|||\n",
    "|__Y__|__Clinical finding (finding)__|\n",
    "|N|disorder|\n",
    "|||\n",
    "|__Y__|__Environment or geographical location (environment / location)__|\n",
    "|N|environment|\n",
    "|N|geographic location|\n",
    "|||\n",
    "|__Y__|__Event (event)__|\n",
    "|||\n",
    "|__Y__|__Observable entity (observable entity)__|\n",
    "|||\n",
    "|__Y__|__Organism (organism)__|\n",
    "|||\n",
    "|__Y__|__Pharmaceutical / biologic product (product)__|\n",
    "|N|medicinal product|\n",
    "|N|medicinal product form|\n",
    "|N|clinical drug|\n",
    "|__Y__|__Physical force (physical force)__|\n",
    "|||\n",
    "|__Y__|__Physical object (physical object)__|\n",
    "|||\n",
    "|__Y__|__Procedure (procedure)__|\n",
    "|N|regime/therapy|\n",
    "|||\n",
    "|__Y__|__Qualifier value (qualifier value)__|\n",
    "|N|administration method|\n",
    "|N|disposition|\n",
    "|N|intended site|\n",
    "|N|number|\n",
    "|N|release characteristic|\n",
    "|N|transformation|\n",
    "|N|basic dose form|\n",
    "|N|dose form|\n",
    "|N|role|\n",
    "|N|state of matter|\n",
    "|N|unit of presentation|\n",
    "|||\n",
    "|__Y__|__Record artifact (record artifact)__|\n",
    "|||\n",
    "|__Y__|__Situation with explicit context (situation)__|\n",
    "|||\n",
    "|__Y__|__SNOMED CT Model Component (metadata)__|\n",
    "|N|core metadata concept|\n",
    "|N|foundation metadata concept|\n",
    "|N|linkage concept|\n",
    "|N|attribute|\n",
    "|N|link assertion|\n",
    "|N|namespace concept|\n",
    "|N|OWL metadata concept|\n",
    "|||\n",
    "|__Y__|__Social context (social concept)__|\n",
    "|N|life style|\n",
    "|N|racial group|\n",
    "|N|ethnic group|\n",
    "|N|occupation|\n",
    "|N|person|\n",
    "|N|religion/philosophy|\n",
    "|||\n",
    "|__Y__|__Special concept (special concept)__|\n",
    "|N|inactive concept|\n",
    "|N|navigational concept|\n",
    "|||\n",
    "|__Y__|__Specimen (specimen)__|\n",
    "|||\n",
    "|__Y__|__Staging and scales (staging scale)__|\n",
    "|N|assessment scale|\n",
    "|N|tumor staging|\n",
    "|||\n",
    "|__Y__|__Substance (substance)__|\n",
    "|||\n"
   ]
  },
  {
   "cell_type": "code",
   "execution_count": 23,
   "metadata": {
    "scrolled": false
   },
   "outputs": [
    {
     "name": "stdout",
     "output_type": "stream",
     "text": [
      "['OWL metadata concept', 'SNOMED RT+CTV3', 'administration method', 'assessment scale', 'attribute', 'basic dose form', 'body structure', 'cell', 'cell structure', 'clinical drug', 'core metadata concept', 'disorder', 'disposition', 'dose form', 'environment', 'environment / location', 'ethnic group', 'event', 'finding', 'foundation metadata concept', 'geographic location', 'inactive concept', 'intended site', 'life style', 'link assertion', 'linkage concept', 'medicinal product', 'medicinal product form', 'metadata', 'morphologic abnormality', 'namespace concept', 'navigational concept', 'number', 'observable entity', 'occupation', 'organism', 'person', 'physical force', 'physical object', 'procedure', 'product', 'product name', 'qualifier value', 'racial group', 'record artifact', 'regime/therapy', 'release characteristic', 'religion/philosophy', 'role', 'situation', 'social concept', 'special concept', 'specimen', 'staging scale', 'state of matter', 'substance', 'supplier', 'transformation', 'tumor staging', 'unit of presentation']\n"
     ]
    }
   ],
   "source": [
    "# List of all Semantic Tags\n",
    "terms_list = snomed_cdb_df['semantic_tag'].unique().tolist()\n",
    "terms_list.sort()\n",
    "print(terms_list)"
   ]
  },
  {
   "cell_type": "code",
   "execution_count": 54,
   "metadata": {},
   "outputs": [],
   "source": [
    "# Hash semantic tag to get a 8 digit code\n",
    "snomed_cdb_df['type_ids'] = snomed_cdb_df['semantic_tag'].apply(\n",
    "    lambda x: int(hashlib.sha256(x.encode('utf-8')).hexdigest(), 16) % 10**8)\n"
   ]
  },
  {
   "cell_type": "code",
   "execution_count": 56,
   "metadata": {},
   "outputs": [
    {
     "data": {
      "text/html": [
       "<div>\n",
       "<style scoped>\n",
       "    .dataframe tbody tr th:only-of-type {\n",
       "        vertical-align: middle;\n",
       "    }\n",
       "\n",
       "    .dataframe tbody tr th {\n",
       "        vertical-align: top;\n",
       "    }\n",
       "\n",
       "    .dataframe thead th {\n",
       "        text-align: right;\n",
       "    }\n",
       "</style>\n",
       "<table border=\"1\" class=\"dataframe\">\n",
       "  <thead>\n",
       "    <tr style=\"text-align: right;\">\n",
       "      <th></th>\n",
       "      <th>cui</th>\n",
       "      <th>name</th>\n",
       "      <th>name_status</th>\n",
       "      <th>semantic_tag</th>\n",
       "      <th>onto</th>\n",
       "      <th>type_ids</th>\n",
       "    </tr>\n",
       "  </thead>\n",
       "  <tbody>\n",
       "    <tr>\n",
       "      <th>0</th>\n",
       "      <td>101009</td>\n",
       "      <td>Quilonia ethiopica (organism)</td>\n",
       "      <td>P</td>\n",
       "      <td>organism</td>\n",
       "      <td>SNOMED-CT</td>\n",
       "      <td>81102976</td>\n",
       "    </tr>\n",
       "    <tr>\n",
       "      <th>1</th>\n",
       "      <td>101009</td>\n",
       "      <td>Quilonia ethiopica</td>\n",
       "      <td>A</td>\n",
       "      <td>organism</td>\n",
       "      <td>SNOMED-CT</td>\n",
       "      <td>81102976</td>\n",
       "    </tr>\n",
       "    <tr>\n",
       "      <th>2</th>\n",
       "      <td>102002</td>\n",
       "      <td>Hemoglobin Okaloosa (substance)</td>\n",
       "      <td>P</td>\n",
       "      <td>substance</td>\n",
       "      <td>SNOMED-CT</td>\n",
       "      <td>91187746</td>\n",
       "    </tr>\n",
       "    <tr>\n",
       "      <th>3</th>\n",
       "      <td>102002</td>\n",
       "      <td>Hemoglobin Okaloosa</td>\n",
       "      <td>A</td>\n",
       "      <td>substance</td>\n",
       "      <td>SNOMED-CT</td>\n",
       "      <td>91187746</td>\n",
       "    </tr>\n",
       "    <tr>\n",
       "      <th>4</th>\n",
       "      <td>102002</td>\n",
       "      <td>Hb 48(CD7), Leu-arg</td>\n",
       "      <td>A</td>\n",
       "      <td>substance</td>\n",
       "      <td>SNOMED-CT</td>\n",
       "      <td>91187746</td>\n",
       "    </tr>\n",
       "  </tbody>\n",
       "</table>\n",
       "</div>"
      ],
      "text/plain": [
       "      cui                             name name_status semantic_tag  \\\n",
       "0  101009    Quilonia ethiopica (organism)           P     organism   \n",
       "1  101009               Quilonia ethiopica           A     organism   \n",
       "2  102002  Hemoglobin Okaloosa (substance)           P    substance   \n",
       "3  102002              Hemoglobin Okaloosa           A    substance   \n",
       "4  102002              Hb 48(CD7), Leu-arg           A    substance   \n",
       "\n",
       "        onto  type_ids  \n",
       "0  SNOMED-CT  81102976  \n",
       "1  SNOMED-CT  81102976  \n",
       "2  SNOMED-CT  91187746  \n",
       "3  SNOMED-CT  91187746  \n",
       "4  SNOMED-CT  91187746  "
      ]
     },
     "execution_count": 56,
     "metadata": {},
     "output_type": "execute_result"
    }
   ],
   "source": [
    "snomed_cdb_df.head()"
   ]
  },
  {
   "cell_type": "markdown",
   "metadata": {},
   "source": [
    "#### Saving your df to CSV"
   ]
  },
  {
   "cell_type": "code",
   "execution_count": null,
   "metadata": {},
   "outputs": [],
   "source": [
    "# Write the clinical terms to csv\n",
    "snomed_cdb_df.to_csv('snomed_cdb_csv_SNOMED-CT-UK_Release_20200401.csv')"
   ]
  },
  {
   "cell_type": "code",
   "execution_count": 66,
   "metadata": {},
   "outputs": [],
   "source": [
    "del snomed_cdb_df"
   ]
  },
  {
   "cell_type": "markdown",
   "metadata": {},
   "source": [
    "# If there is a drug extension use below:"
   ]
  },
  {
   "cell_type": "code",
   "execution_count": 14,
   "metadata": {},
   "outputs": [],
   "source": [
    "drug_extension = f'{snomed_dir}/SnomedCT_UKDrugRF2_PRODUCTION_20200930T000001Z/Snapshot/Terminology'\n",
    "drug_terms = parse_file(f'{drug_extension}/sct2_Concept_Snapshot_GB1000001_20200930.txt')\n",
    "active_drug_terms = drug_terms[drug_terms.active == '1']\n",
    "drug_descriptions = parse_file(f'{drug_extension}/sct2_Description_Snapshot-en_GB1000001_20200930.txt')\n",
    "active_drug_desc = drug_descriptions[drug_descriptions.active == '1']\n",
    "# Merge in clinical snomed terminology\n",
    "all_terms = pd.concat([active_terms, active_drug_terms])\n",
    "all_descs = pd.concat([active_descs, active_drug_desc])"
   ]
  },
  {
   "cell_type": "code",
   "execution_count": 15,
   "metadata": {},
   "outputs": [],
   "source": [
    "active_with_desc_drug_ext = pd.merge(all_terms, all_descs[all_descs['typeId'] == '900000000000003001'], left_on=['id'], right_on=['conceptId'], how='inner')\n",
    "active_with_desc_drug_ext[active_with_desc_drug_ext.duplicated(['id_x'], keep='first')]\n",
    "active_with_desc_drug_ext = active_with_desc_drug_ext.drop_duplicates(['id_x'], keep='first')\n",
    "assert len(active_with_desc_drug_ext) == len(all_terms)\n",
    "active_with_desc_drug_ext['semantic_tag'] = active_with_desc_drug_ext['term'].str.extract(r\"\\((\\w+\\s?.?\\s?\\w+.?\\w+.?\\w+.?)\\)$\")\n"
   ]
  },
  {
   "cell_type": "code",
   "execution_count": 16,
   "metadata": {},
   "outputs": [],
   "source": [
    "_ = pd.merge(all_terms, all_descs, left_on=['id'], right_on=['conceptId'], how='inner')\n",
    "active_with_primary_desc = _[_['typeId'] == '900000000000003001']\n",
    "active_with_primary_desc = active_with_primary_desc.drop_duplicates(['id_x'], keep='first')\n",
    "active_with_synonym_desc = _[_['typeId'] == '900000000000013009']\n",
    "active_with_all_desc = pd.concat([active_with_primary_desc, active_with_synonym_desc])"
   ]
  },
  {
   "cell_type": "code",
   "execution_count": 17,
   "metadata": {},
   "outputs": [],
   "source": [
    "snomed_cdb_df = pd.merge(active_with_all_desc, active_with_desc_drug_ext, left_on=['id_x'], right_on=['conceptId'], how='inner')"
   ]
  },
  {
   "cell_type": "code",
   "execution_count": 18,
   "metadata": {},
   "outputs": [],
   "source": [
    "# clean up the merge and rename the columns to fit the medcat Concept database criteria\n",
    "snomed_cdb_df = snomed_cdb_df[['id_x_x','term_x','typeId_x','semantic_tag']]\n",
    "snomed_cdb_df.columns = ['cui', 'name', 'name_status', 'semantic_tag']\n",
    "snomed_cdb_df['ontologies'] = 'SNOMED-CT'\n",
    "snomed_cdb_df['name_status'] = snomed_cdb_df['name_status'].replace(['900000000000003001', '900000000000013009'], [\"P\",\"A\"])\n"
   ]
  },
  {
   "cell_type": "code",
   "execution_count": 19,
   "metadata": {},
   "outputs": [],
   "source": [
    "# Hash semantic tag to get a 8 digit code\n",
    "snomed_cdb_df['type_ids'] = snomed_cdb_df['semantic_tag'].apply(\n",
    "    lambda x: int(hashlib.sha256(x.encode('utf-8')).hexdigest(), 16) % 10**8)"
   ]
  },
  {
   "cell_type": "code",
   "execution_count": 20,
   "metadata": {},
   "outputs": [
    {
     "data": {
      "text/html": [
       "<div>\n",
       "<style scoped>\n",
       "    .dataframe tbody tr th:only-of-type {\n",
       "        vertical-align: middle;\n",
       "    }\n",
       "\n",
       "    .dataframe tbody tr th {\n",
       "        vertical-align: top;\n",
       "    }\n",
       "\n",
       "    .dataframe thead th {\n",
       "        text-align: right;\n",
       "    }\n",
       "</style>\n",
       "<table border=\"1\" class=\"dataframe\">\n",
       "  <thead>\n",
       "    <tr style=\"text-align: right;\">\n",
       "      <th></th>\n",
       "      <th>cui</th>\n",
       "      <th>name</th>\n",
       "      <th>name_status</th>\n",
       "      <th>semantic_tag</th>\n",
       "      <th>ontologies</th>\n",
       "      <th>type_ids</th>\n",
       "    </tr>\n",
       "  </thead>\n",
       "  <tbody>\n",
       "    <tr>\n",
       "      <th>0</th>\n",
       "      <td>101009</td>\n",
       "      <td>Quilonia ethiopica (organism)</td>\n",
       "      <td>P</td>\n",
       "      <td>organism</td>\n",
       "      <td>SNOMED-CT</td>\n",
       "      <td>81102976</td>\n",
       "    </tr>\n",
       "    <tr>\n",
       "      <th>1</th>\n",
       "      <td>101009</td>\n",
       "      <td>Quilonia ethiopica</td>\n",
       "      <td>A</td>\n",
       "      <td>organism</td>\n",
       "      <td>SNOMED-CT</td>\n",
       "      <td>81102976</td>\n",
       "    </tr>\n",
       "    <tr>\n",
       "      <th>2</th>\n",
       "      <td>102002</td>\n",
       "      <td>Hemoglobin Okaloosa (substance)</td>\n",
       "      <td>P</td>\n",
       "      <td>substance</td>\n",
       "      <td>SNOMED-CT</td>\n",
       "      <td>91187746</td>\n",
       "    </tr>\n",
       "    <tr>\n",
       "      <th>3</th>\n",
       "      <td>102002</td>\n",
       "      <td>Hemoglobin Okaloosa</td>\n",
       "      <td>A</td>\n",
       "      <td>substance</td>\n",
       "      <td>SNOMED-CT</td>\n",
       "      <td>91187746</td>\n",
       "    </tr>\n",
       "    <tr>\n",
       "      <th>4</th>\n",
       "      <td>102002</td>\n",
       "      <td>Hb 48(CD7), Leu-arg</td>\n",
       "      <td>A</td>\n",
       "      <td>substance</td>\n",
       "      <td>SNOMED-CT</td>\n",
       "      <td>91187746</td>\n",
       "    </tr>\n",
       "  </tbody>\n",
       "</table>\n",
       "</div>"
      ],
      "text/plain": [
       "      cui                             name name_status semantic_tag  \\\n",
       "0  101009    Quilonia ethiopica (organism)           P     organism   \n",
       "1  101009               Quilonia ethiopica           A     organism   \n",
       "2  102002  Hemoglobin Okaloosa (substance)           P    substance   \n",
       "3  102002              Hemoglobin Okaloosa           A    substance   \n",
       "4  102002              Hb 48(CD7), Leu-arg           A    substance   \n",
       "\n",
       "  ontologies  type_ids  \n",
       "0  SNOMED-CT  81102976  \n",
       "1  SNOMED-CT  81102976  \n",
       "2  SNOMED-CT  91187746  \n",
       "3  SNOMED-CT  91187746  \n",
       "4  SNOMED-CT  91187746  "
      ]
     },
     "execution_count": 20,
     "metadata": {},
     "output_type": "execute_result"
    }
   ],
   "source": [
    "snomed_cdb_df.head()"
   ]
  },
  {
   "cell_type": "code",
   "execution_count": 21,
   "metadata": {},
   "outputs": [
    {
     "name": "stdout",
     "output_type": "stream",
     "text": [
      "Enter file name:snomed_cdb_csv_SNOMED-CT-full_UK_drug_ext_Release_20211001\n"
     ]
    }
   ],
   "source": [
    "# write the clinical terms plus drug extension to csv:\n",
    "file_name = input(\"Enter file name:\")\n",
    "snomed_cdb_df.to_csv(file_name+'.csv') #snomed_cdb_csv_SNOMED-CT-full_UK_drug_ext_Release_20200228"
   ]
  },
  {
   "cell_type": "code",
   "execution_count": 23,
   "metadata": {},
   "outputs": [],
   "source": [
    "# Functions for finding the concept name and all synonymns for a SNOMED concept\n",
    "\n",
    "def find_name(snomedcode):\n",
    "    \"\"\"\n",
    "    Converts SNOMED code to Fully specified name and finds any Synonyms\n",
    "    \"\"\"\n",
    "    df = snomed_cdb_df[(snomed_cdb_df['cui'] == snomedcode) & (snomed_cdb_df['name_status'] == 'P')]\n",
    "    concept_name = df['name'].values\n",
    "    return f\"{''.join(concept_name)}\"\n",
    "\n",
    "def find_syn(snomedcode):\n",
    "    \"\"\"\n",
    "    Converts SNOMED code and finds all Synonyms. Not including concept name\n",
    "    \"\"\"\n",
    "    df = snomed_cdb_df[(snomed_cdb_df['cui'] == snomedcode) & (snomed_cdb_df['name_status'] == 'A')]\n",
    "    synonym = df['name'].tolist()\n",
    "    return f\"{'; '.join(synonym)}\""
   ]
  },
  {
   "cell_type": "code",
   "execution_count": 24,
   "metadata": {},
   "outputs": [
    {
     "name": "stdout",
     "output_type": "stream",
     "text": [
      "Lower respiratory tract infection (disorder)\n",
      "Lower respiratory tract infection; Lower respiratory infection; Chest cold; LRTI - Lower respiratory tract infection\n"
     ]
    }
   ],
   "source": [
    "print(find_name(\"50417007\"))\n",
    "print(find_syn(\"50417007\"))"
   ]
  },
  {
   "cell_type": "markdown",
   "metadata": {},
   "source": [
    "## Exploring SNOMED relationships\n",
    "\n",
    "### Root and top-level Concepts\n",
    "All concepts appear from the root concept 138875005 |SNOMED CT Concept (SNOMED RT+CTV3)|"
   ]
  },
  {
   "cell_type": "markdown",
   "metadata": {},
   "source": [
    "\n",
    "####  Table 3: Top Level Concepts \n",
    "These concepts all root from the base concept: 138875005, (SNOMED CT Concept (SNOMED RT+CTV3))<br>These concepts are all linked via the relationship typeId: 116680003, (is a)\n",
    "<br>A full list of relationship types can be found as children concepts of: 106237007, (linkage concept)\n",
    "\n",
    "\n",
    "\n",
    "|SCTID|Semantic Tag|\n",
    "|:---:|:---:|\n",
    "|123037004 |Body structure|\n",
    "|404684003 |Clinical finding|\n",
    "|272379006 |Event|\n",
    "|308916002 |Environment or geographical location|\n",
    "|363787002 |Observable entity|\n",
    "|410607006 |Organism|\n",
    "|373873005 |Pharmaceutical / biologic product|\n",
    "|78621006 |Physical force|\n",
    "|260787004 |Physical object|\n",
    "|71388002 |Procedure|\n",
    "|362981000 |Qualifier value|\n",
    "|419891008 |Record artifact|\n",
    "|243796009 |Situation with explicit context|\n",
    "|900000000000441003 |SNOMED CT Model Component (metadata)|\n",
    "|48176007 |Social context|\n",
    "|370115009 |Special concept|\n",
    "|123038009 |Specimen|\n",
    "|254291000 |Staging and scales|\n",
    "|105590001 |Substance|\n",
    "\n",
    "\n",
    "Taken from Techincal implementation guide(4.1), Table 4.1-3: https://confluence.ihtsdotools.org/display/DOCTIG "
   ]
  },
  {
   "cell_type": "markdown",
   "metadata": {},
   "source": [
    "## Creating the relationship dictionaries\n",
    "\n",
    "Parent to children structure\n",
    "pt2ch = {‘\\<cui_for_pt\\>’, \\[\\<list of cuis for children\\>\\], …}"
   ]
  },
  {
   "cell_type": "code",
   "execution_count": null,
   "metadata": {},
   "outputs": [],
   "source": [
    "# Merge relationship files\n",
    "drug_ext_relat = parse_file(f'{drug_extension}/sct2_Relationship_Snapshot_GB1000001_20200318.txt')\n",
    "active_drug_ext_relat = drug_ext_relat[drug_ext_relat.active == '1']\n",
    "all_relat = pd.concat([active_relat, active_drug_ext_relat])\n",
    "all_relat[['sourceId','destinationId','typeId']] = 'S-' + all_relat[['sourceId','destinationId','typeId']].astype(str)"
   ]
  },
  {
   "cell_type": "code",
   "execution_count": null,
   "metadata": {},
   "outputs": [],
   "source": [
    "all_relat.head()"
   ]
  },
  {
   "cell_type": "code",
   "execution_count": null,
   "metadata": {},
   "outputs": [],
   "source": [
    "# write the relationship terms plus drug extension relationships to csv:\n",
    "file_name = input(\"Enter file name:\")\n",
    "all_relat.to_csv(file_name+'.csv') #snomed_rela_csv_SNOMED-CT-full_UK_drug_ext_Release_20200228"
   ]
  },
  {
   "cell_type": "code",
   "execution_count": null,
   "metadata": {},
   "outputs": [],
   "source": [
    "# Find all types of relationships\n",
    "rel = all_relat['typeId'].unique()\n",
    "for _ in rel:\n",
    "    print(find_name(_), _)"
   ]
  },
  {
   "cell_type": "markdown",
   "metadata": {},
   "source": [
    "# Parents and Children (IS A)\n",
    "Subtype relationship 116680003|Is a (attribute)| relates a Concept to its immediate supertype Concepts."
   ]
  },
  {
   "cell_type": "code",
   "execution_count": null,
   "metadata": {},
   "outputs": [],
   "source": [
    "# Parent to Children dictionary\n",
    "pt2ch = dict([(key, []) for key in all_relat[\"destinationId\"].unique()])\n",
    "for index, v in all_relat.iterrows():\n",
    "    if v['typeId'] == \"S-116680003\":\n",
    "        _ = v['destinationId']\n",
    "        pt2ch[_].append(v['sourceId'])\n",
    "    else:\n",
    "        pass"
   ]
  },
  {
   "cell_type": "code",
   "execution_count": null,
   "metadata": {},
   "outputs": [],
   "source": [
    "# Children to Parent dictionary\n",
    "ch2pt = dict([(key, []) for key in all_relat[\"sourceId\"].unique()])\n",
    "for index, v in all_relat.iterrows():\n",
    "    if v['typeId'] == \"S-116680003\":\n",
    "        _ = v['sourceId']\n",
    "        ch2pt[_].append(v['destinationId'])\n",
    "    else:\n",
    "        pass\n"
   ]
  },
  {
   "cell_type": "code",
   "execution_count": null,
   "metadata": {},
   "outputs": [],
   "source": [
    "# Write to 'isa' relationships to file\n",
    "with open('isa_rela_pt2ch.txt', 'w') as outfile:\n",
    "    json.dump(pt2ch, outfile)\n",
    "with open('isa_rela_ch2pt.txt', 'w') as outfile:\n",
    "    json.dump(ch2pt, outfile)"
   ]
  },
  {
   "cell_type": "code",
   "execution_count": null,
   "metadata": {},
   "outputs": [],
   "source": [
    "# Load 'isa' relationships to df\n",
    "with open('isa_rela_pt2ch.txt') as json_file:\n",
    "    pt2ch = json.load(json_file)\n",
    "with open('isa_rela_ch2pt.txt') as json_file:\n",
    "    ch2pt = json.load(json_file)"
   ]
  },
  {
   "cell_type": "code",
   "execution_count": null,
   "metadata": {},
   "outputs": [],
   "source": [
    "# Check if the Top level concepts are the same in the SNOMED UK Extention\n",
    "top_level_concepts = all_relat[all_relat['destinationId']=='S-138875005']\n",
    "top_level_concepts['conceptname'] = top_level_concepts['sourceId'].apply(find_name)\n",
    "top_level_concepts[['sourceId', 'conceptname']].reset_index()"
   ]
  },
  {
   "cell_type": "markdown",
   "metadata": {},
   "source": [
    "### Siblings"
   ]
  },
  {
   "cell_type": "code",
   "execution_count": null,
   "metadata": {},
   "outputs": [],
   "source": [
    "isa_rel = all_relat[all_relat['typeId'] == 'S-116680003']"
   ]
  },
  {
   "cell_type": "code",
   "execution_count": null,
   "metadata": {},
   "outputs": [],
   "source": [
    "# Find siblings\n",
    "# cui to siblings dictionary\n",
    "cui2sib_dic = dict([(key, set()) for key in isa_rel['sourceId'].unique()])"
   ]
  },
  {
   "cell_type": "code",
   "execution_count": null,
   "metadata": {},
   "outputs": [],
   "source": [
    "isa_rel.head()"
   ]
  },
  {
   "cell_type": "code",
   "execution_count": null,
   "metadata": {},
   "outputs": [],
   "source": [
    "# Find siblings function\n",
    "def cui2sib(snomed):\n",
    "    x = set()\n",
    "    for a in ch2pt[snomed]:\n",
    "        for b in pt2ch[a]:\n",
    "            x.add(b)\n",
    "    return x"
   ]
  },
  {
   "cell_type": "code",
   "execution_count": null,
   "metadata": {},
   "outputs": [],
   "source": [
    "%%timeit\n",
    "for key in cui2sib_dic:\n",
    "    cui2sib_dic[key].update(cui2sib(key))"
   ]
  },
  {
   "cell_type": "code",
   "execution_count": null,
   "metadata": {},
   "outputs": [],
   "source": [
    "%%timeit\n",
    "cui2sib_dic = dict()\n",
    "for key in tqdm(unique_snomed, total=len(unique_snomed)):\n",
    "    value = cui2sib(key)\n",
    "    cui2sib_dic[key].\n",
    "    "
   ]
  },
  {
   "cell_type": "code",
   "execution_count": null,
   "metadata": {},
   "outputs": [],
   "source": [
    "with open('isa_rela_cui2sib.txt', 'w') as outfile:\n",
    "    json.dump(cui2sib, outfile)"
   ]
  },
  {
   "cell_type": "code",
   "execution_count": null,
   "metadata": {},
   "outputs": [],
   "source": []
  },
  {
   "cell_type": "code",
   "execution_count": null,
   "metadata": {},
   "outputs": [],
   "source": [
    "cui2sib('S-404684003')"
   ]
  },
  {
   "cell_type": "markdown",
   "metadata": {
    "pycharm": {
     "name": "#%% md\n"
    }
   },
   "source": [
    "# ICD-10 / OPCS-4 linkages with SNOMED-CT\n"
   ]
  },
  {
   "cell_type": "markdown",
   "metadata": {},
   "source": [
    "Note the mapping priority"
   ]
  },
  {
   "cell_type": "code",
   "execution_count": 25,
   "metadata": {
    "pycharm": {
     "name": "#%%\n"
    }
   },
   "outputs": [],
   "source": [
    "refset_terminology = f'{base_term}/SnomedCT_UKClinicalRF2_PRODUCTION_20200930T000001Z/Snapshot/Refset/Map'"
   ]
  },
  {
   "cell_type": "code",
   "execution_count": 26,
   "metadata": {},
   "outputs": [],
   "source": [
    "mappings = parse_file(f'{refset_terminology}/der2_iisssciRefset_ExtendedMapSnapshot_GB1000000_20200930.txt')\n",
    "mappings = mappings[mappings.active == '1']"
   ]
  },
  {
   "cell_type": "code",
   "execution_count": 27,
   "metadata": {},
   "outputs": [],
   "source": [
    "mappings.mapPriority = mappings.mapPriority.astype(int)"
   ]
  },
  {
   "cell_type": "code",
   "execution_count": null,
   "metadata": {},
   "outputs": [],
   "source": [
    "icd10_refset_id = '999002271000000101'\n",
    "opcs4_refset_id = '999002741000000101'"
   ]
  },
  {
   "cell_type": "code",
   "execution_count": null,
   "metadata": {},
   "outputs": [],
   "source": [
    "%%time\n",
    "cui2mappings = dict()\n",
    "for cui in snomed_cdb_df.cui.unique():\n",
    "    cui_map = mappings[mappings.referencedComponentId == cui].loc[:, ['mapPriority', 'mapAdvice', 'mapTarget', 'refsetId']]\n",
    "    if cui_map.shape[0] > 0:\n",
    "        cui2mappings[cui] = cui_map.sort_values('mapPriority')"
   ]
  },
  {
   "cell_type": "code",
   "execution_count": null,
   "metadata": {},
   "outputs": [],
   "source": [
    "opcs_mappings = {}\n",
    "icd10_mappings= {}\n",
    "for cui, mappings in cui2mappings.items():\n",
    "    icd10_codes = mappings[mappings.refsetId == icd10_refset_id]\n",
    "    if icd10_codes.shape[0] > 0:\n",
    "        icd10_mappings[cui] = icd10_codes\n",
    "    opcs_codes = mappings[mappings.refsetId == opcs4_refset_id]\n",
    "    if opcs_codes.shape[0] > 0:\n",
    "        opcs_mappings[cui] = opcs_codes"
   ]
  },
  {
   "cell_type": "code",
   "execution_count": null,
   "metadata": {},
   "outputs": [],
   "source": [
    "import pickle\n",
    "pickle.dump(opcs_mappings, open('20200930_opcs_mappings_full.pickle', 'wb'))\n",
    "pickle.dump(icd10_mappings, open('20200930_icd10_mappings_full.pickle', 'wb'))"
   ]
  },
  {
   "cell_type": "code",
   "execution_count": null,
   "metadata": {},
   "outputs": [],
   "source": [
    "# condense mappings to a simple dict representation"
   ]
  },
  {
   "cell_type": "code",
   "execution_count": null,
   "metadata": {},
   "outputs": [],
   "source": [
    "def condense_mapping(cui2mappings):\n",
    "    mapping_condensed = {}\n",
    "    for cui, mappings in cui2mappings.items():\n",
    "        mapping_condensed[cui] = mappings.mapTarget.replace('(\\w\\d\\d)(\\d*)', r'\\1.\\2', regex=True).tolist()\n",
    "    return mapping_condensed"
   ]
  },
  {
   "cell_type": "code",
   "execution_count": null,
   "metadata": {},
   "outputs": [],
   "source": [
    "icd10_mapping_condensed = condense_mapping(icd10_mappings)"
   ]
  },
  {
   "cell_type": "code",
   "execution_count": null,
   "metadata": {},
   "outputs": [],
   "source": [
    "opcs_mapping_condensed = condense_mapping(opcs_mappings)"
   ]
  },
  {
   "cell_type": "code",
   "execution_count": null,
   "metadata": {},
   "outputs": [],
   "source": [
    "pickle.dump(icd10_mapping_condensed, open('icd10_mapping_condensed.pickle', 'wb'))\n",
    "pickle.dump(opcs_mapping_condensed, open('opcs_mapping_condensed.pickle', 'wb'))"
   ]
  },
  {
   "cell_type": "code",
   "execution_count": null,
   "metadata": {},
   "outputs": [],
   "source": []
  },
  {
   "cell_type": "code",
   "execution_count": null,
   "metadata": {},
   "outputs": [],
   "source": [
    "cui2mappings['1240751000000100']"
   ]
  },
  {
   "cell_type": "code",
   "execution_count": null,
   "metadata": {},
   "outputs": [],
   "source": [
    "opcs_mapping_condensed['S-104001']"
   ]
  },
  {
   "cell_type": "code",
   "execution_count": null,
   "metadata": {},
   "outputs": [],
   "source": []
  },
  {
   "cell_type": "markdown",
   "metadata": {},
   "source": [
    "### ICD-10 and OPSC-4 code to descriptions\n",
    "Link to files on NHS TRUD\n",
    "\n",
    "\n",
    "__icd:__ https://isd.digital.nhs.uk/trud3/user/authenticated/group/0/pack/28\n",
    "\n",
    "__opcs:__ https://isd.digital.nhs.uk/trud3/user/authenticated/group/0/pack/10"
   ]
  },
  {
   "cell_type": "markdown",
   "metadata": {},
   "source": [
    "#### ICD10 code2desc"
   ]
  },
  {
   "cell_type": "code",
   "execution_count": null,
   "metadata": {},
   "outputs": [],
   "source": [
    "icd_path = r\"C:\\Users\\k1767582\\Desktop\\icd_df_10.5.0_20151102000001\\ICD10_Edition5_20160401\\Content\"\n",
    "icd10_mapping_detail = parse_file(f'{icd_path}/ICD10_Edition5_CodesAndTitlesAndMetadata_GB_20160401.txt')\n",
    "icd10_mapping_detail['full_description'] = icd10_mapping_detail.DESCRIPTION +  icd10_mapping_detail.MODIFIER_4 + icd10_mapping_detail.MODIFIER_5"
   ]
  },
  {
   "cell_type": "code",
   "execution_count": null,
   "metadata": {},
   "outputs": [],
   "source": [
    "icd10_uk_codes = {c: desc for c, desc in zip(icd10_mapping_detail.CODE, icd10_mapping_detail.full_description)}\n",
    "pickle.dump(icd10_uk_codes, open('icd10_uk_code2desc.pickle', 'wb'))"
   ]
  },
  {
   "cell_type": "markdown",
   "metadata": {},
   "source": [
    "#### OPCS code2desc"
   ]
  },
  {
   "cell_type": "code",
   "execution_count": null,
   "metadata": {},
   "outputs": [],
   "source": [
    "opcs_filename = r'C:\\Users\\k1767582\\Desktop\\nhs_opcs4df_9.0.0_20191104000001\\OPCS49 CodesAndTitles Nov 2019 V1.0.txt'\n",
    "opcs_desc_df = parse_file(opcs_filename, first_row_header=False, columns=['code', 'desc'])\n",
    "opcs_desc_df = {code: desc for code, desc in zip(opcs_desc_df.code, opcs_desc_df.desc)}\n",
    "pickle.dump(opcs_desc_df, open('opcs_code2desc.pickle', 'wb'))"
   ]
  },
  {
   "cell_type": "code",
   "execution_count": null,
   "metadata": {},
   "outputs": [],
   "source": []
  },
  {
   "cell_type": "code",
   "execution_count": null,
   "metadata": {},
   "outputs": [],
   "source": []
  },
  {
   "cell_type": "code",
   "execution_count": null,
   "metadata": {},
   "outputs": [],
   "source": []
  }
 ],
 "metadata": {
  "kernelspec": {
   "display_name": "Python 3",
   "language": "python",
   "name": "python3"
  },
  "language_info": {
   "codemirror_mode": {
    "name": "ipython",
    "version": 3
   },
   "file_extension": ".py",
   "mimetype": "text/x-python",
   "name": "python",
   "nbconvert_exporter": "python",
   "pygments_lexer": "ipython3",
   "version": "3.8.2"
  }
 },
 "nbformat": 4,
 "nbformat_minor": 4
}
